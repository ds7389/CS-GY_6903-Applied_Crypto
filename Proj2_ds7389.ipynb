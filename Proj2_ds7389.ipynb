{
  "nbformat": 4,
  "nbformat_minor": 0,
  "metadata": {
    "colab": {
      "provenance": [],
      "authorship_tag": "ABX9TyPAoIPRRyLGCxMsWM1Ryo7M",
      "include_colab_link": true
    },
    "kernelspec": {
      "name": "python3",
      "display_name": "Python 3"
    },
    "language_info": {
      "name": "python"
    }
  },
  "cells": [
    {
      "cell_type": "markdown",
      "metadata": {
        "id": "view-in-github",
        "colab_type": "text"
      },
      "source": [
        "<a href=\"https://colab.research.google.com/github/ds7389/CS-GY_6903-Applied_Crypto/blob/main/Proj2_ds7389.ipynb\" target=\"_parent\"><img src=\"https://colab.research.google.com/assets/colab-badge.svg\" alt=\"Open In Colab\"/></a>"
      ]
    },
    {
      "cell_type": "markdown",
      "source": [
        "# Project 02: Group Project\n"
      ],
      "metadata": {
        "id": "gPxhjvjE72Jr"
      }
    },
    {
      "cell_type": "code",
      "source": [
        "# Connect to Google Drive.  (Not always needed)\n",
        "\n",
        "from google.colab import drive\n",
        "drive.mount('/content/drive')"
      ],
      "metadata": {
        "colab": {
          "base_uri": "https://localhost:8080/"
        },
        "id": "zrATMeloAyZE",
        "outputId": "702786a0-5d64-446b-dbb0-1b39d9ed9a1d"
      },
      "execution_count": 73,
      "outputs": [
        {
          "output_type": "stream",
          "name": "stdout",
          "text": [
            "Drive already mounted at /content/drive; to attempt to forcibly remount, call drive.mount(\"/content/drive\", force_remount=True).\n"
          ]
        }
      ]
    },
    {
      "cell_type": "code",
      "source": [
        "#  Include any needed Libraries\n",
        "import sys\n",
        "import os\n"
      ],
      "metadata": {
        "id": "cd86YmOg8ibR"
      },
      "execution_count": 74,
      "outputs": []
    },
    {
      "cell_type": "markdown",
      "source": [
        "## Problem 03: Implementing Many-Time Pad\n",
        "\n"
      ],
      "metadata": {
        "id": "3q7wbmU_78ut"
      }
    },
    {
      "cell_type": "markdown",
      "source": [
        "Tasks: Modify the one-time pad implementation to encrypt multiple messages with the same key, simulating a many-time pad scenario.\n",
        "The purpose of this problem is to see if there are any recognizable patterns by observing the outputs.\n",
        "You can gain insights by changing the plaintexts or the key to verify your findings.\n",
        "These findings would be useful in the next problem."
      ],
      "metadata": {
        "id": "bTqGNSDF8R2z"
      }
    },
    {
      "cell_type": "markdown",
      "source": [
        "1. The program should encrypt a list of 10 predefined plaintext messages with a single key, saving the plaintexts, key, and ciphertexts (all in hex) into a file. You can select 10 of your favorite messages. Assume the key is long enough to do encryption to all the 10 messages."
      ],
      "metadata": {
        "id": "1l4GC-NN8JMI"
      }
    },
    {
      "cell_type": "code",
      "source": [
        "# Include File with 10 messages\n",
        "# Quotes in messages.txt taken from: https://randomquestionmaker.com/more-tools/motivational-quotes-generator\n",
        "\n",
        "messages = \"/content/drive/My Drive/Colab Notebooks/Project_02/messages.txt\"\n",
        "outputfile = \"/content/drive/My Drive/Colab Notebooks/Project_02/output.txt\"\n"
      ],
      "metadata": {
        "id": "0ILqwDRRCDYL"
      },
      "execution_count": 75,
      "outputs": []
    },
    {
      "cell_type": "code",
      "source": [
        "#  functions based on crypto.stanford.edu\n",
        "\n",
        "def xor(message, key):\n",
        "  ''' takes two bytes objects (can be of uneven length) and returns their XOR. '''\n",
        "  return bytes([a ^ b for a, b in zip(message, key)])\n",
        "\n",
        "def random(key_size=32):\n",
        "  ''' returns a random bytestring of length key_size.\n",
        "  uses /dev/random to generate randomness (blocks until enough entropy is gathered.)'''\n",
        "  #with open(\"/dev/random\", \"rb\") as f:\n",
        "  return os.urandom(key_size)\n",
        "\n"
      ],
      "metadata": {
        "id": "zPJ-l2zkA409"
      },
      "execution_count": 76,
      "outputs": []
    },
    {
      "cell_type": "code",
      "source": [
        "# helper functions\n",
        "\n",
        "def get_messages(input_file):\n",
        "  messages = []\n",
        "  hex_messages = []\n",
        "  ###--- Open and read file into list (one line equals one message) ---###\n",
        "  f = open(input_file, mode='r')\n",
        "\n",
        "  ### Parse each line of file into new message to encrypt\n",
        "  for line in f:\n",
        "    message = line\n",
        "    messages.append(message)\n",
        "\n",
        "    hex_message = line.encode('utf-8').hex()\n",
        "    hex_messages.append(hex_message)\n",
        "\n",
        "  f.close()\n",
        "  return messages, hex_messages\n",
        "\n",
        "def key_size_calculator(messages):\n",
        "  key_size = 0\n",
        "  for message in messages:\n",
        "    if len(message) > key_size:\n",
        "      key_size = len(message)\n",
        "  return key_size\n",
        "\n",
        "def message_encryptor(messages, key):\n",
        "  encrypted_messages = []\n",
        "  for message in messages:\n",
        "    message = bytes(message, 'utf-8')\n",
        "    encrypted_message = xor(message, key)\n",
        "    encrypted_messages.append(encrypted_message.hex())\n",
        "  return encrypted_messages"
      ],
      "metadata": {
        "id": "2Lmkg8EqesxC"
      },
      "execution_count": 77,
      "outputs": []
    },
    {
      "cell_type": "code",
      "source": [
        "def Many_Time_Pad(input_file, output_file, debug=False):\n",
        "  '''\n",
        "  Open and read file into list (one line equals one message)\n",
        "  export all messages as hex\n",
        "  Figure out length of longest message\n",
        "  generate key of length of longest message\n",
        "  export key as hex\n",
        "  encrypt each message with key\n",
        "  export ciphertexts as hex\n",
        "\n",
        "  '''\n",
        "\n",
        "  ###--- Open and read file into list (one line equals one message) ---###\n",
        "  messages, hex_messages = get_messages(input_file)\n",
        "\n",
        "\n",
        "  ###--- Figure out length of longest message ---###\n",
        "  key_size = key_size_calculator(messages)\n",
        "\n",
        "  ###--- generate key of length of longest message ---###\n",
        "  key = random(key_size)\n",
        "  key_hex = key.hex()\n",
        "\n",
        "  ###--- encrypt each message with key ---###\n",
        "  encrypted_messages = message_encryptor(messages, key)\n",
        "\n",
        "\n",
        "\n",
        "  ###--- output plaintext hex, key hex, and ciphertext hex ---###\n",
        "  o = open(output_file, \"w\")\n",
        "  ###--- export all messages as hex\n",
        "  o.write(\"Plaintext: \\n\")\n",
        "  for line in hex_messages:\n",
        "    o.write(str(line))\n",
        "    o.write(\"\\n\")\n",
        "  o.write(\"\\n\")\n",
        "  ###--- export key as hex\n",
        "  o.write(\"Key: \\n\")\n",
        "  o.write(str(key_hex))\n",
        "  o.write(\"\\n\")\n",
        "  o.write(\"\\n\")\n",
        "  ###--- export ciphertexts as hex\n",
        "  o.write(\"Ciphertexts: \\n\")\n",
        "  for line in encrypted_messages:\n",
        "    o.write(str(line))\n",
        "    o.write(\"\\n\")\n",
        "  o.write(\"\\n\")\n",
        "  o.close()\n",
        "\n",
        "\n",
        "\n",
        "\n"
      ],
      "metadata": {
        "id": "TuMmitaL3bkb"
      },
      "execution_count": 78,
      "outputs": []
    },
    {
      "cell_type": "code",
      "source": [
        "#Many_Time_Pad(messages, outputfile)\n",
        "Many_Time_Pad(messages, outputfile, True)\n"
      ],
      "metadata": {
        "id": "GgnzIP-H_AOL"
      },
      "execution_count": 79,
      "outputs": []
    }
  ]
}