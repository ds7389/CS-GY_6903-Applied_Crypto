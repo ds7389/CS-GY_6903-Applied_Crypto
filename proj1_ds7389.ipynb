{
  "nbformat": 4,
  "nbformat_minor": 0,
  "metadata": {
    "colab": {
      "provenance": [],
      "mount_file_id": "1TH4iPfWgCCpX-puFU77LU7S0s7iMM0o9",
      "authorship_tag": "ABX9TyOHwicVgVAiV1Vn1enbdu7I",
      "include_colab_link": true
    },
    "kernelspec": {
      "name": "python3",
      "display_name": "Python 3"
    },
    "language_info": {
      "name": "python"
    }
  },
  "cells": [
    {
      "cell_type": "markdown",
      "metadata": {
        "id": "view-in-github",
        "colab_type": "text"
      },
      "source": [
        "<a href=\"https://colab.research.google.com/github/ds7389/CS-GY_6903-Applied_Crypto/blob/main/proj1_ds7389.ipynb\" target=\"_parent\"><img src=\"https://colab.research.google.com/assets/colab-badge.svg\" alt=\"Open In Colab\"/></a>"
      ]
    },
    {
      "cell_type": "markdown",
      "source": [
        "# Project 01"
      ],
      "metadata": {
        "id": "ZeuBAe8LDqIs"
      }
    },
    {
      "cell_type": "code",
      "source": [
        "# Connect to Google Drive.  (Not always needed)\n",
        "\n",
        "#from google.colab import drive\n",
        "#drive.mount('/content/drive')\n"
      ],
      "metadata": {
        "id": "J32l3FkgEBK_"
      },
      "execution_count": 1,
      "outputs": []
    },
    {
      "cell_type": "code",
      "source": [
        "# Install General Libraries that may be needed for probelems\n",
        "#!python3 -m pip --version\n",
        "\n",
        "!python3 -m pip install py-enigma"
      ],
      "metadata": {
        "colab": {
          "base_uri": "https://localhost:8080/"
        },
        "id": "VYIkxWs6-2Pf",
        "outputId": "87af1b9f-88cc-4d58-b7e8-c0294d6def4a"
      },
      "execution_count": 2,
      "outputs": [
        {
          "output_type": "stream",
          "name": "stdout",
          "text": [
            "Requirement already satisfied: py-enigma in /usr/local/lib/python3.11/dist-packages (0.1)\n"
          ]
        }
      ]
    },
    {
      "cell_type": "code",
      "source": [
        "# Letters converted to numbers dictionary\n",
        "Letter_Dictionary={\n",
        "\"A\":\t\"0 \",\n",
        "\"B\":\t\"1 \",\n",
        "\"C\":\t\"2 \",\n",
        "\"D\":\t\"3 \",\n",
        "\"E\":\t\"4 \",\n",
        "\"F\":\t\"5 \",\n",
        "\"G\":\t\"6 \",\n",
        "\"H\":\t\"7 \",\n",
        "\"I\":\t\"8 \",\n",
        "\"J\":\t\"9 \",\n",
        "\"K\":\t\"10 \",\n",
        "\"L\":\t\"11 \",\n",
        "\"M\":\t\"12 \",\n",
        "\"N\":\t\"13 \",\n",
        "\"O\":\t\"14 \",\n",
        "\"P\":\t\"15 \",\n",
        "\"Q\":\t\"16 \",\n",
        "\"R\":\t\"17 \",\n",
        "\"S\":\t\"18 \",\n",
        "\"T\":\t\"19 \",\n",
        "\"U\":\t\"20 \",\n",
        "\"V\":\t\"21 \",\n",
        "\"W\":\t\"22 \",\n",
        "\"X\":\t\"23 \",\n",
        "\"Y\":\t\"24 \",\n",
        "\"Z\":\t\"25 \",\n",
        "}\n"
      ],
      "metadata": {
        "id": "nV3QV6__m2ED"
      },
      "execution_count": 3,
      "outputs": []
    },
    {
      "cell_type": "markdown",
      "source": [
        "## Problem 01: Vigenère cipher\n"
      ],
      "metadata": {
        "id": "B7mlJXNADufZ"
      }
    },
    {
      "cell_type": "markdown",
      "source": [
        "### Part A\n",
        "\n",
        "Encrypt the message using the Vigenère cipher with the given key, k = ‘apple’ to the message, m = ‘theclassistough’ to produce the ciphertext.\n"
      ],
      "metadata": {
        "id": "Z21dTJnrD24U"
      }
    },
    {
      "cell_type": "code",
      "source": [
        "# Part 1.A\n",
        "\n",
        "def encrypter(message, key):\n",
        "  '''\n",
        "  This code is not a complete encrypter at this time.\n",
        "  Currently it converts the message and key into their numberic values based on\n",
        "  the standard A=0, B=1, C=2, . . . , Z=25 subsitutions.\n",
        "  '''\n",
        "  message = str(message).upper()\n",
        "  key = str(key).upper()\n",
        "  cipher_text = []\n",
        "  key_code = []\n",
        "  for letter in message:\n",
        "    cipher_letter = Letter_Dictionary.get(letter)\n",
        "    cipher_text.append(cipher_letter)\n",
        "  cipher_text = \" \".join(cipher_text)\n",
        "  for letter in key:\n",
        "    key_code.append(Letter_Dictionary.get(letter))\n",
        "  key_code = \" \".join(key_code)\n",
        "  return cipher_text, key_code\n",
        "\n"
      ],
      "metadata": {
        "id": "ZmEuwe8OD_c7"
      },
      "execution_count": 4,
      "outputs": []
    },
    {
      "cell_type": "code",
      "source": [
        "encrypter(\"theclassisthough\", \"apple\")"
      ],
      "metadata": {
        "colab": {
          "base_uri": "https://localhost:8080/"
        },
        "id": "dXmhIZ_dttva",
        "outputId": "16de0d6b-ffa4-4e57-9d75-2b6a08a9fd29"
      },
      "execution_count": 5,
      "outputs": [
        {
          "output_type": "execute_result",
          "data": {
            "text/plain": [
              "('19  7  4  2  11  0  18  18  8  18  19  7  14  20  6  7 ',\n",
              " '0  15  15  11  4 ')"
            ]
          },
          "metadata": {},
          "execution_count": 5
        }
      ]
    },
    {
      "cell_type": "markdown",
      "source": [
        "#### Answer to Q1.A\n",
        "The Vigenère cipher is polyalphabetic substitution cipher.  \n",
        "\n",
        "In order to encrypt the message \"theclassistough\", the first thing we do is convert each letter to it's respective number from 0 -> 25, with A=0, B=1, C=2, . . ., Z=25.\n",
        "We do the same for the key, \"apple\".\n",
        "\n",
        "We end up with:\n",
        "\n",
        "    Message = '19 7  4  2  11  0  18  18  8  18  19  7  14  20  6  7 '\n",
        "    Key =     '0  15 15 11 4'\n",
        "\n",
        "\n",
        "**Each letter of the key is added to the message, and when the key ends it is repeated again so that every letter of the message is added to one letter of the key.**\n",
        "**(See table for example of how letter of key line up with plaintext)**\n",
        "\n",
        "**The resulting Cipher Code numbers need to be Mod26 (in this case, subtract 26 if the number is bigger than 25).**\n",
        "\n",
        "The formula for each letter is:\n",
        "\n",
        "Cipher_Letter = (Plaintext_Letter + Key_Letter)mod26\n",
        "\n",
        "(I used an excel sheet to do the math, but you can see the steps in the table)\n",
        "\n",
        "The resulting Cipher_Text is:\n",
        "\n",
        "    Numberic:   \"19 22 19 13 15 0 8 8 19 22 19 4 10 17 11\"\n",
        "    Alphabetic: \"T  W  T  N  P  A I I T  W  T  E K  R  L\"\n",
        "\n"
      ],
      "metadata": {
        "id": "rVDqB00q1Wnz"
      }
    },
    {
      "cell_type": "markdown",
      "source": [
        "Table 01: Manual Calculations for Vigenere encryption\n",
        "\n",
        "\n",
        "| Encryption Table ||||||||||||||||\n",
        "| -- | -- | -- | -- | -- | -- | -- | -- | -- | -- | -- | -- | -- | -- | -- | -- |\n",
        "| Plaintext |t|h|e|c|l|a|s|s|i|s|t|o|u|g|h|\n",
        "| Plaintext Numberic |19|7|4|2|11|0|18|18|8|18|19|14|20|6|7|\n",
        "|||||||||||||||||\n",
        "|Key|a|p|p|l|e|||||||||||\n",
        "|Key Numberic Repeating |0|15|15|11|4|0|15|15|11|4|0|15|15|11|4|\n",
        "|||||||||||||||||\n",
        "|Cipher Code = (Sum of Plaintext + Key) |19|22|19|13|15|0|33|33|19|22|19|29|35|17|11|\n",
        "|(Cipher Code)Mod 26|19|22|19|13|15|0|7|7|19|22|19|3|9|17|11|\n",
        "|Ciphertext|T|W|T|N|P|A|H|H|T|W|T|D|J|R|L|\n"
      ],
      "metadata": {
        "id": "1DcWJ-sPPvdc"
      }
    },
    {
      "cell_type": "markdown",
      "source": [
        "### Part B\n",
        "Then (b) decrypt the ciphertext back to retrieve the original\n",
        "plaintext. Show your work."
      ],
      "metadata": {
        "id": "W4FYppfED9MF"
      }
    },
    {
      "cell_type": "markdown",
      "source": [
        "#### Answer to 1.B\n",
        "\n",
        "In order to decrypt the cipher text with the key, we are going to inverse the encryption process.\n",
        "\n",
        "Ciphertext =\n",
        "\n",
        "    Alphabetic: \"T W T N P A I I T W T E K R L\"\n",
        "    Numberic: \"19 22 19 13 15 0 8 8 19 22 19 4 10 17 11\"\n",
        "\n",
        "Key =\n",
        "\n",
        "    Alphabetic: \"A P P L E\"\n",
        "    Numberic: \"0 15 15 11 4\"\n",
        "\n",
        "We take the Ciphertext numberic value, and line them up with the numberic value of the key repeated.\n",
        "We then subtract the key from the ciphertext.\n",
        "If the value of the plaintext is negative, we add 26 to it.\n",
        "(This is the same as taking the mod26 of the plaintext.)\n",
        "\n",
        "The formula to represent the decryption for each letter is:\n",
        "\n",
        "Plaintext_Letter = (Cipher_Letter - key_letter)mod26.\n",
        "\n",
        "The resulting plaintext is the same as our original plaintext:\n",
        "\n",
        "Plaintext =\n",
        "\n",
        "    Alphabetic: \"t\th\te\tc\tl\ta\ts\ts\ti\ts\tt\to\tu\tg\th\"\n",
        "    Numberic: \"19\t7\t4\t2\t11\t0\t18\t18\t8\t18\t19\t14\t20\t6\t7\"\n",
        "\n"
      ],
      "metadata": {
        "id": "cGYqFhfC7qCb"
      }
    },
    {
      "cell_type": "markdown",
      "source": [
        "Table 02: Manual Calculations for Vigenere decryption\n",
        "\n",
        "\n",
        "| Decryption Table ||||||||||||||||\n",
        "| -- | -- | -- | -- | -- | -- | -- | -- | -- | -- | -- | -- | -- | -- | -- | -- |\n",
        "|Ciphertext|T|W|T|N|P|A|H|H|T|W|T|D|J|R|L|\n",
        "|Cipher Code |19|22|19|13|15|0|7|7|19|22|19|3|9|17|11|\n",
        "|||||||||||||||||\n",
        "|Key|a|p|p|l|e|||||||||||\n",
        "|Key Numberic Repeating |0|15|15|11|4|0|15|15|11|4|0|15|15|11|4|\n",
        "|||||||||||||||||\n",
        "|PlainText Decoded = (Cipher Code - Key)|19|7|4|2|11|0|-7|-7|8|18|19|-11|-5|6|7|\n",
        "|(Plaintext Decoded)Mod 26|19|7|4|2|11|0|18|18|8|18|19|14|20|6|7|\n",
        "|Decoded Plaintext|T|H|E|C|L|A|S|S|I|S|T|O|U|G|H|\n",
        "|||||||||||||||||\n",
        "\n"
      ],
      "metadata": {
        "id": "g8xFkQnMRzRL"
      }
    },
    {
      "cell_type": "markdown",
      "source": [
        "## Problem2: Affine Cipher\n",
        "\n",
        "The Affine cipher is a type of monoalphabetic substitution cipher that employs modular arithmetic to encrypt the letters of a message. The encryption formula is c = (a * p + b) mod n, where 'p' is the plaintext letter, 'c' is the ciphertext letter, 'n' is the modulus. 'a' and 'b' are keys, and 'a' must be chosen such that 'a' and 'n' are coprime (relatively prime). In this cipher, each letter of the plaintext is converted into an integer, for example, A=0, B=1, C=2, and so on."
      ],
      "metadata": {
        "id": "emO3N6vkE5fK"
      }
    },
    {
      "cell_type": "markdown",
      "source": [
        "### Part A\n",
        "\n",
        "a) What is the size of key space for a fixed modular n? Students can use the notation of the Euler's totient Φ(n) which is defined as the number of integers less than n and relative prime to n."
      ],
      "metadata": {
        "id": "J5EGWwllFXig"
      }
    },
    {
      "cell_type": "markdown",
      "source": [
        "#### Answer to Q2.A\n",
        "The general formula for the keyspace of an Affine Cipher is:\n",
        "\n",
        "    Keyspace = n * Φ(n)\n",
        "\n",
        "The keyspace for a modular of 26 would be = 26 * Φ(26) = 312.\n",
        "\n",
        "To calculate this, we must first calculate:  Φ(26)\n",
        "\n",
        "To do this, we first do a prime factorization of 26, this gives us 26 = 2 * 13.\n",
        "\n",
        "Using the Totient Funcation Formula:\n",
        "\n",
        "    Φ(n) = n * (1 - (1/p1)) * (1 - (1/p2)) * ...\n",
        "\n",
        "For 26 = 2 * 13:\n",
        "\n",
        "\n",
        "    Φ(26) = 26 * (1 - (1/2)) * (1 - (1/13))\n",
        "\n",
        "\n",
        "Simplifying this, we get\n",
        "\n",
        "    Φ(26) = 26 * (1/2) * (12/13)\n",
        "\n",
        "    or\n",
        "\n",
        "    Φ(26) = 12\n",
        "\n",
        "Plugging this value into our original formula, we get\n",
        "\n",
        "    26 * Φ(26) = 26 * 12 = 312\n",
        "\n",
        "---\n",
        "If we were to hypothetically to use modular of 24, our keyspace would be:\n",
        "\n",
        "    24 * Φ(24) = 24 * 8 = 192\n",
        "\n",
        "Since\n",
        "\n",
        "    24 = 2^3 * 3\n",
        "    Φ(24) = 24 * (1 - (1/2)) * (1 - (1/3))\n",
        "    Φ(24) = 24 * (1/2) * (2/3)\n",
        "    Φ(24) = 8\n"
      ],
      "metadata": {
        "id": "s8LL6szLZw_N"
      }
    },
    {
      "cell_type": "markdown",
      "source": [
        "### Part B\n",
        "\n",
        "b) Imagine you're a cryptographer tasked with sending a secure message using the Affine Cipher. Your message consists only of capital letters, and you've decided to use the encryption formula c = 5p+9 mod 26 and do it manually. What is the ciphertext for the plaintext “CRYPTOISFUN”?\n"
      ],
      "metadata": {
        "id": "nK9X6jpJFhzg"
      }
    },
    {
      "cell_type": "markdown",
      "source": [
        "#### Answer to Q2.B\n",
        "\n",
        "We are taking the text CRYPTOISFUN, and using the formula\n",
        "\n",
        "    c = (a*p + b)mod26\n",
        "\n",
        "Where \"c\" is our ciphertext output, \"a\" is given as 5, \"p\" is the plaintext letter we plan to encrypt, and \"b\" is given to us as 9.\n",
        "\n",
        "Converting each letter in the plaintext to it's numberic value from 0 -> 25,\n",
        "our plaintext is:\n",
        "\n",
        "    2 17 24 15 19 14 8 18 5 20 13\n",
        "\n",
        "applying our encryption formula to each letter we get the cipher:\n",
        "\n",
        "    19 16 25 6 0 1 23 21 8 5 22\n",
        "\n",
        "Which then can be tranformed using our numberic values for letters to the following ciphertext:\n",
        "\n",
        "    T Q Z G A B X V I F W\n",
        "\n",
        "If we were to take the first C in our plaintext \"CRYPTOISFUN\", the calculations would look like this:\n",
        "\n",
        "    c = (5*2 + 9)mod26\n",
        "    c = (19)mod26\n",
        "    c = 19\n",
        "    19 translates to T\n",
        "\n",
        "If we did the final N, the calculations would look like this:\n",
        "\n",
        "    c = (5*13 + 9)mod26\n",
        "    c = (74)mod26\n",
        "    c = 22\n",
        "    22 translates to W\n",
        "\n",
        "\n",
        "Our final ciphertext is \"TQZGABXVIFW\""
      ],
      "metadata": {
        "id": "tbid9I7_mkv5"
      }
    },
    {
      "cell_type": "markdown",
      "source": [
        "\n",
        "Table 2: Affine Encryption\n",
        "\n",
        "|Message|||C|R|Y|P|T|O|I|S|F|U|N|\n",
        "| -- | -- | -- | -- | -- | -- | -- | -- | -- | -- | -- | -- | -- | -- |\n",
        "|P = |||2|17|24|15|19|14|8|18|5|20|13|\n",
        "|||||||||||||||\n",
        "|c=|||19|16|25|6|0|1|23|21|8|5|22|\n",
        "|CipherText|||T|Q|Z|G|A|B|X|V|I|F|W|\n"
      ],
      "metadata": {
        "id": "jZmDg8oJ5S-t"
      }
    },
    {
      "cell_type": "code",
      "source": [
        "# Part 2.B\n",
        "\n",
        "def affine_encrypter(message, a, b):\n",
        "  a = int(a)\n",
        "  b = int(b)\n",
        "  cipher_text = []\n",
        "  for letter in message:\n",
        "    cipher_letter = Letter_Dictionary.get(letter)\n",
        "    cipher_letter = int(cipher_letter)\n",
        "    cipher_letter = ((a * cipher_letter) + b) % 26\n",
        "    cipher_text.append(cipher_letter)\n",
        "  return cipher_text\n",
        "\n"
      ],
      "metadata": {
        "id": "BkHrb9xrFtCz"
      },
      "execution_count": 6,
      "outputs": []
    },
    {
      "cell_type": "code",
      "source": [
        "affine_encrypter(\"CRYPTOISFUN\", 5, 9)"
      ],
      "metadata": {
        "colab": {
          "base_uri": "https://localhost:8080/"
        },
        "id": "AsghARO0s2Vw",
        "outputId": "d53ea0ca-aaed-45c4-b6e4-6d0c88b66dd9"
      },
      "execution_count": 7,
      "outputs": [
        {
          "output_type": "execute_result",
          "data": {
            "text/plain": [
              "[19, 16, 25, 6, 0, 1, 23, 21, 8, 5, 22]"
            ]
          },
          "metadata": {},
          "execution_count": 7
        }
      ]
    },
    {
      "cell_type": "markdown",
      "source": [
        "### Part C\n",
        "\n",
        "c) Eve has intercepted a ciphertext “QJKESREOGHGXXREOXEO” and, through her intelligence sources, discovered that it’s encrypted using an Affine Cipher. She also has limited information about the encryption process: the letter 'T' is encrypted to 'H' and 'O' to 'E'. With this knowledge, she aims to decrypt the message. Your challenge is to help Eve by developing a method to find the decryption function of the Affine Cipher using the given information. You do it manually. Show your work.\n"
      ],
      "metadata": {
        "id": "YTK_I5_7FvBD"
      }
    },
    {
      "cell_type": "markdown",
      "source": [
        "#### Answer to Q2.C\n",
        "\n",
        "We are given two cipher letters and their related plaintext letters.\n",
        "\n",
        "| Cipherletter | Plaintext Letter |\n",
        "| ------------ | ---------------- |\n",
        "|    E = 4     |     o = 14       |\n",
        "|    H = 7     |     t = 19       |\n",
        "\n",
        "We can use these two cipher pairs to calcualte α and β.\n",
        "\n",
        "C = α * P + β (mod 26)\n",
        "\n",
        "```math\n",
        "    7 = α * 19 + β (mod 26)\n",
        "  -(4 = α * 14 + β (mod 26))\n",
        "  --------------------------\n",
        "   3 = α * 5 + 0  \n",
        "   or\n",
        "   3/5 = α\n",
        "   or\n",
        "   3 * 5^{-1} = α\n",
        "```\n",
        "\n",
        "Before we go anyfurther, we need to calcualte \"5^{-1} mod26\"\n",
        "\n",
        "```math\n",
        "5^{-1} mod26 = 𝐗\n",
        "\n",
        "1 mod26 = 5𝐗\n",
        "\n",
        "0 mod26 = 5𝐗 - 1\n",
        "or\n",
        "26𝐘 = 5𝐗 - 1\n",
        "or\n",
        "1 = 5𝐗 - 26𝐘\n",
        "```\n",
        "\n",
        "At this point in the calculation, we use Bezout's Identity: `gcd(a,b) = a𝐗 + b𝐘)`.\n",
        "First we calcualte the `gcd(26,5)`.\n",
        "```math\n",
        "26 = 5 (5) + 1\n",
        "5  = 1 (5) + 0\n",
        "```\n",
        "We then calculate 𝐗 and 𝐘:\n",
        "```math\n",
        "1 = 26 - 5(5)\n",
        "or\n",
        "1 = 26(1) + 5(-5)\n",
        "```\n",
        "\n",
        "Now we have `-5 mod26` which we can calculate to `21 mod26`.\n",
        "```math\n",
        "-5 + 26 = 21\n",
        "```\n",
        "\n",
        "We take the 21 and plug it into our original α calculation:\n",
        "\n",
        "```math\n",
        "α = 3 * 5^{-1}\n",
        "Now\n",
        "α = 3 * 21 (mod26)\n",
        "or\n",
        "α = 63 mod26\n",
        "or\n",
        "α = 11 mod26\n",
        "α = 11\n",
        "```\n",
        "\n",
        "We can now solve for β by plugging the value of α into one of the original formulas:\n",
        "```math\n",
        "7 = 11(19) + β\n",
        "7 - 11(19) = β\n",
        "7 - 209 = β\n",
        "-202 = β\n",
        "-202 mod26 = β\n",
        "    -202/26 = (-1)(7)(26) r 20\n",
        "so\n",
        "-202 mod26 = -20 mod26\n",
        "-20 mod26 = 6\n",
        "so\n",
        "6 mod26 = β\n",
        "6 = β\n",
        "```\n",
        "\n",
        "We are now armed with α and β our keys to encryption and decryption of the cipher and plaintext.\n",
        "\n",
        "Our decryption formula takes our original encyption formula and rearanges it so that it is expressed as `p = α^{-1}(c - β) mod26`.\n",
        "\n",
        "What we currently know:\n",
        "\n",
        "|  |  |\n",
        "| - | - |\n",
        "| α | 11 |\n",
        "| β | 6  |\n",
        "\n",
        "Let's plug in the values we have into our decypher formula, `p = 11^{-1}(c - 6) mod26`.  \n",
        "\n",
        "Our first step is to calculate `11^{-1}`.\n",
        "\n",
        "```math\n",
        "11^{-1} mod26 = Α\n",
        "1 mod26 = 11Α\n",
        "0 mod26 = 11Α - 1\n",
        "26𝐘 = 11Α - 1\n",
        "or (subbing 𝐗 for Α for now)\n",
        "1 = 11𝐗 - 26𝐘\n",
        "```\n",
        "\n",
        "At this point we can use the Bezout Identity again: `gcd(a,b) = a𝐗 + b𝐘)` and solve it again with the \"Extended Euclidian Algorithm\".\n",
        "```math\n",
        "gcd(26, 11) = 11𝐗 + 26𝐘\n",
        "\n",
        "gcd(26, 11) first:\n",
        "26 = 11(2) + 4\n",
        "11 = 4(2) + 3\n",
        "4  = 3(1) + 1\n",
        "3  = 1(3) + 0\n",
        "\n",
        "gcd(26,11) = 1\n",
        "\n",
        "1 = 4 - 3(1)\n",
        "1 = 4 - (11 - 4(2))*(1)\n",
        "1 = 4 - 11(1) + 4(2)\n",
        "1 = 11(1) + 4(3)\n",
        "1 = 11(1) + (26 - 11(2))*3\n",
        "1 = 11(1) + 26(3) - 11(6)\n",
        "1 = 26(3) - 11(7)\n",
        "\n",
        "So we now have:\n",
        "-7 mod26 =\n",
        "-7 + 26 = 19\n",
        "so\n",
        "19 mod26 = -7 mod26\n",
        "```\n",
        "\n",
        "Knowing that `-7 mod26 = 19 mod26` we can now go back to our original decryption formula and plug in our values.  \n",
        "`p = α^{-1}(c - β) mod26`\n",
        "\n",
        "`α^{-1} = 19`\n",
        "\n",
        "`p = 19(c - 6) mod26`\n",
        "\n",
        "At this point we can use one of our ciphertext and plaintext pairs to make sure our equations are correct.\n",
        "Let's try with our ciphertext of 4.\n",
        "```math\n",
        "p = 19(4 - 6)mod26\n",
        "p = (19(4) mod26) - (19(6) mod26)\n",
        "p = 76 mod26 - 114 mod26\n",
        "p = 24 mod26 - 10 mod26\n",
        "p = 14 mod26\n",
        "```\n",
        "\n",
        "Given our ciphertext of 4, our plaintext is 14.\n",
        "\n",
        "Checking our initial information we find that to be correct!\n",
        "\n",
        "We can now use our formula `p = 19(c - 6) mod26` to decrypt the rest of the message.\n",
        "\n",
        "|  |  |  |  |  |  |  |  |  |  |  |  |  |  |  |  |  |  | |\n",
        "| - | - | - | - | - | - | - | - | - | - | - | - | - | - | - | - | - | - | - |\n",
        "|Ciphertext | Q | J | K | E | S | R | E | O | G | H | G | X | X | R | E | O | X | E | O |\n",
        "|c =  | 16 | 9 | 10 | 4 | 18 | 17 | 4 | 14 | 6 | 7 | 6 | 23 | 23 | 17 | 4 | 14 | 23 | 4 | 14 |\n",
        "|  |  |  |  |  |  |  |  |  |  |  |  |  |  |  |  |  |  |\n",
        "|P (Plaintext) | I | F | Y | O | U | B | O | W | A | T | A | L | L | B | O | W | L | O | W |\n",
        "|p =  | 8 | 5 | 24 | 14 | 20 | 1 | 14 | 22 | 0 | 19 | 0 | 11 | 11 | 1 | 14 | 22 | 11 | 14 | 22 |\n",
        "\n"
      ],
      "metadata": {
        "id": "fKPSEAsGFJ63"
      }
    },
    {
      "cell_type": "markdown",
      "source": [
        "##### Bruteforce attack\n",
        "\n",
        "Used this to double check my calcualtions of the keys."
      ],
      "metadata": {
        "id": "t_BGhA4x-DqV"
      }
    },
    {
      "cell_type": "code",
      "source": [
        "# Part 2.C\n",
        "\n",
        "# class video starting around : 0:41:40\n",
        "Cipher_text=\"QJKESREOGHGXXREOXEO\"\n",
        "#later ask soham for video.\n",
        "Ciper_text_p1=\"QJKoSRoOGtGXXRoOXoO\"\n",
        "\n",
        "def affine_brute_force(plaintext_1,ciphertext_1,p2,c2):\n",
        "  a=[1,3,5,7,9,11,15,17,19,21,23,25]\n",
        "  b=[1,2,3,4,5,6,7,8,9,10,11,12,13,14,15,16,17,18,19,20,21,22,23,24,25,26]\n",
        "  for A in a:\n",
        "    #print(A)\n",
        "    for B in b:\n",
        "      #print(A , B)\n",
        "      test1 = ((A*plaintext_1)+B) % 26\n",
        "      if ciphertext_1 == test1:\n",
        "        test2 = ((A*p2)+B) % 26\n",
        "        if test2 == c2:\n",
        "          return A,B\n",
        "\n",
        "affine_brute_force(14,4,19,7)"
      ],
      "metadata": {
        "id": "QggBt8J5FupB",
        "colab": {
          "base_uri": "https://localhost:8080/"
        },
        "outputId": "c75702ac-a29e-48da-d497-09cd59dc9623"
      },
      "execution_count": 8,
      "outputs": [
        {
          "output_type": "execute_result",
          "data": {
            "text/plain": [
              "(11, 6)"
            ]
          },
          "metadata": {},
          "execution_count": 8
        }
      ]
    },
    {
      "cell_type": "code",
      "source": [
        "def affine_tester(p1,c1,p2,c2):\n",
        "  a=[1,3,5,7,9,11,15,17,19,21,23,25]\n",
        "  b=[0,1,2,3,4,5,6,7,8,9,10,11,12,13,14,15,16,17,18,19,20,21,22,23,24,25]\n",
        "  for A in a:\n",
        "    for B in b:\n",
        "      test1 = ((A*p1)+B) % 26\n",
        "      test2 = ((A*p2)+B) % 26\n",
        "      if test1 == c1:\n",
        "        if test2 == c2:\n",
        "          print(str(A) + \"*\" + str(p1) + \"+\" + str(B) + \"= \" + str(test1) + \" : \" + str(c1))\n",
        "          print(str(A) + \"*\" + str(p2) + \"+\" + str(B) + \"= \" + str(test2) + \" : \" + str(c2))\n",
        "          print(\" \")\n",
        "\n",
        "affine_tester(14,4,19,7)"
      ],
      "metadata": {
        "colab": {
          "base_uri": "https://localhost:8080/"
        },
        "id": "yqM9HZGWELFX",
        "outputId": "5f818d6d-5bc8-4b9c-fed8-8c7236a4fcc6"
      },
      "execution_count": 9,
      "outputs": [
        {
          "output_type": "stream",
          "name": "stdout",
          "text": [
            "11*14+6= 4 : 4\n",
            "11*19+6= 7 : 7\n",
            " \n"
          ]
        }
      ]
    },
    {
      "cell_type": "markdown",
      "source": [
        "## Problem 3 Frequency Analysis\n",
        "\n",
        "Alice has crafted a message for Bob using a simple substitution cipher. The encrypted message, segmented is \"TNFOS FOZSW PZLOC GQAOZ WAGQR PJZPN ABCZP QDOGR AMTHA RAXTB AGZJO GMTHA RAVAP ZW\", where spaces are not part of the original encryption and are added only for convenience. Eve, who has intercepted the message, knows that the word \"liberty\" appears somewhere in the plaintext."
      ],
      "metadata": {
        "id": "8EJOeSfYGCda"
      }
    },
    {
      "cell_type": "markdown",
      "source": [
        "### Part A\n",
        "\n",
        "a) Calculate the Size of the Key Space. Explain how the key space is calculated and its implications for the cipher's security."
      ],
      "metadata": {
        "id": "DZg1Kd1fGUXQ"
      }
    },
    {
      "cell_type": "markdown",
      "source": [
        "#### Answer to Q3.A\n",
        "\n",
        "The keyspace for a Simple Substitution Cipher is 26!.\n",
        "This is equal to  403,291,461,126,605,635,584,000,000  or ~ 403*10^24.\n",
        "This is because each letter of the alphabet is replaced with another unique letter of the alphabet.  When a letter is selected to subsitute for A, there are 26 options, but then when selecting a letter to substitute for B, there are only 25 unique letters left to choose from.  This continues down until the last letter is assigned the only remaining letter.\n",
        "\n",
        "This keyspace is so large it makes brute force impossible, but this doesn't mean it is unbreakable.  \n",
        "This cipher is still vulnerable to frequency analysis, and other techniques.\n",
        "\n"
      ],
      "metadata": {
        "id": "ojy5MLyhMzok"
      }
    },
    {
      "cell_type": "markdown",
      "source": [
        "### Part B\n",
        "\n",
        "b) Given Eve's knowledge that the word \"liberty\" is in the plaintext, devise a strategy to decrypt the message. This task requires analyzing the ciphertext, making educated guesses, and testing hypotheses about the cipher's key. Your goal is to uncover the original message sent by Alice to Bob. You can solve it using any resources you have. A detailed explanation of your method is required."
      ],
      "metadata": {
        "id": "40z3KlDaGmSo"
      }
    },
    {
      "cell_type": "markdown",
      "source": [
        "Table of English letter frequency\n",
        "\n",
        "| Letter | English Letter Freq % |\n",
        "| ------ | --------------------- |\n",
        "| A | 8.2% |\n",
        "| B | 1.5% |\n",
        "| C | 2.8% |\n",
        "| D | 4.2% |\n",
        "| E | 12.7% |\n",
        "| F | 2.2% |\n",
        "| G | 2.0% |\n",
        "| H | 6.1% |\n",
        "| I | 7.0% |\n",
        "| J | 0.1% |\n",
        "| K | 0.8% |\n",
        "| L | 4.0% |\n",
        "| M | 2.4% |\n",
        "| N | 6.7% |\n",
        "| O | 7.5% |\n",
        "| P | 1.9% |\n",
        "| Q | 0.1% |\n",
        "| R | 6.0% |\n",
        "| S | 6.3% |\n",
        "| T | 9.0% |\n",
        "| U | 2.8% |\n",
        "| V | 1.0% |\n",
        "| W | 2.4% |\n",
        "| X | 0.1% |\n",
        "| Y | 2.0% |\n",
        "| Z | 0.1% |\n"
      ],
      "metadata": {
        "id": "ehTq_gQYMdPm"
      }
    },
    {
      "cell_type": "markdown",
      "source": [
        "Table of Ciphertext Letter Counts and Frequency\n",
        "\n",
        "| Letter | Cipher Letter Count | Cipher Letter Freq %  |\n",
        "| ------ | ------------------- | --------------------- |\n",
        "| A | 10 | 14.93%                                      |\n",
        "| Z | 7 | 10.45%                                       |\n",
        "| O | 6 | 8.96%                                        |\n",
        "| G | 5 | 7.46%                                        |\n",
        "| P | 5 | 7.46%                                        |\n",
        "| R | 4 | 5.97%                                        |\n",
        "| T | 4 | 5.97%                                        |\n",
        "| Q | 3 | 4.48%                                        |\n",
        "| W | 3 | 4.48%                                        |\n",
        "| B | 2 | 2.99%                                        |\n",
        "| C | 2 | 2.99%                                        |\n",
        "| F | 2 | 2.99%                                        |\n",
        "| H | 2 | 2.99%                                        |\n",
        "| J | 2 | 2.99%                                        |\n",
        "| M | 2 | 2.99%                                        |\n",
        "| N | 2 | 2.99%                                        |\n",
        "| S | 2 | 2.99%                                        |\n",
        "| D | 1 | 1.49%                                        |\n",
        "| L | 1 | 1.49%                                        |\n",
        "| V | 1 | 1.49%                                        |\n",
        "| X | 1 | 1.49%                                        |\n",
        "| E | 0 | 0.00%                                        |\n",
        "| I | 0 | 0.00%                                        |\n",
        "| K | 0 | 0.00%                                        |\n",
        "| U | 0 | 0.00%                                        |\n",
        "| Y | 0 | 0.00%                                        |\n"
      ],
      "metadata": {
        "id": "5CPIV8OVYKco"
      }
    },
    {
      "cell_type": "markdown",
      "source": [
        "#### Suplimental Tables\n"
      ],
      "metadata": {
        "id": "ip3CLWZsCqRc"
      }
    },
    {
      "cell_type": "markdown",
      "source": [
        "| Bigram | Freq (%)\n",
        "| - | - |\n",
        "TH | 3.15%\n",
        "HE | 2.51%\n",
        "AN | 1.72%\n",
        "IN | 1.69%\n",
        "ER | 1.54%\n",
        "RE | 1.48%\n",
        "ES | 1.45%\n",
        "ON | 1.45%\n",
        "EA | 1.31%\n",
        "TI | 1.28%\n",
        "AT | 1.24%\n",
        "ST | 1.21%\n",
        "EN | 1.20%\n",
        "ND | 1.18%\n"
      ],
      "metadata": {
        "id": "cj-lT-PMANqe"
      }
    },
    {
      "cell_type": "markdown",
      "source": [
        "| Trigrams\n",
        "| - |\n",
        "THE\n",
        "ING\n",
        "AND\n",
        "HER\n",
        "ERE\n",
        "ENT\n",
        "THA\n",
        "NTH\n",
        "WAS\n",
        "ETH\n",
        "FOR\n"
      ],
      "metadata": {
        "id": "6IUSSUIbCU-I"
      }
    },
    {
      "cell_type": "markdown",
      "source": [
        "#### Answer to Q3.B\n",
        "\n",
        "Here is a log of the steps I utilized to decrypt the ciphertext:\n",
        "\n",
        "1. Count all the times each individual letter is used, and then divide that count by the total number of letters in the ciphertext to get the cipher letter's frequency.\n",
        "2. Knowing that E and T are the most frequent letters in the english language, assign them to the top two letters in the cipher letter list.  \n",
        "\n",
        "\n",
        "    A -> e\n",
        "    Z -> t\n",
        "\n",
        "3. Knowing that LIBERTY appears in the plaintext somewhere, I begin to see where it could fit in the ciphertext with the E and T locations that I used from step 2.\n",
        "4. Based on the letter spacing for E and T, I believe that LIBERTY fits towards the end of the cipher.\n",
        "It is the first place that I see that can fit LIBERTY based on the space allowed for the full word.  I am basically trying to force the oracle word into the ciphertext somewhere. (Note, I didn't see the earlier location in the ciphertext, but in the end I just got lucky with my first found location.)\n",
        "I begin to make substitutions that allow for the oracle of LIBERTY to exist in that location.\n",
        "\n",
        "\n",
        "    X -> l\n",
        "    T -> i\n",
        "    B -> b\n",
        "    G -> r\n",
        "    J -> y\n",
        "\n",
        "|  |  |  |  |  |  |  |  |  |  |  |  |  |  |  |  |  |  |  |  |  |  |  |  |  |  |  |  |  |  |  |  |  |  |  |  |  |  |  |  |  |  |  |  |  |  |  |  |  |  |  |  |  |  |  |  |  |  |  |  |  |  |  |  |  |\n",
        "| - | - | - | - | - | - | - | - | - | - | - | - | - | - | - | - | - | - | - | - | - | - | - | - | - | - | - | - | - | - | - | - | - | - | - | - | - | - | - | - | - | - | - | - | - | - | - | - | - | - | - | - | - | - | - | - | - | - | - | - | - | - | - | - | - |\n",
        "1 | 2 | 3 | 4 | 5 | 6 | 7 | 8 | 9 | 10 | 11 | 12 | 13 | 14 | 15 | 16 | 17 | 18 | 19 | 20 | 21 | 22 | 23 | 24 | 25 | 26 | 27 | 28 | 29 | 30 | 31 | 32 | 33 | 34 | 35 | 36 | 37 | 38 | 39 | 40 | 41 | 42 | 43 | 44 | 45 | 46 | 47 | 48 | 49 | 50 | 51 | 52 | 53 | 54 | 55 | 56 | 57 | 58 | 59 | 60 | 61 | 62 | 63 | 64 | 65 | 66 | 67\n",
        "T | N | F | O | S | F | O | Z | S | W | P | Z | L | O | C | G | Q | A | O | Z | W | A | G | Q | R | P | J | Z | P | N | A | B | C | Z | P | Q | D | O | G | R | A | M | T | H | A | R | A | X | T | B | A | G | Z | J | O | G | M | T | H | A | R | A | V | A | P | Z | W |\n",
        " |  |  |  |  |  |  |  |  |  |  |  |  |  |  |  |  |  |  |  |  |  |  |  |  |  |  |  |  |  |  |  |  |  |  |  |  |  |  |  |  |  |  |  |  |  |  | L | I | B | E | R | T | Y |  |  |  |  |  |  |  |  |  |  |  |  |\n",
        "\n",
        "\n",
        "5. Going back and trying to guess letters based on frequency analysis:\n",
        "  - O is used 8.96% in the ciphertext, this is likely either A or O.  \n",
        "    - A for O doesn't look quite right... nothing egrigious, but I want to look at O for O too.\n",
        "    - The next highest frequency cipher letter is P with a frequency of 7.46%.  Going to try to put A here and leave O in the O spot.\n",
        "\n",
        "*Current Substitutions (in frequency order):*\n",
        "\n",
        "    A -> e\n",
        "    Z -> t\n",
        "    O -> o\n",
        "    G -> r\n",
        "    P -> a\n",
        "    T -> i\n",
        "    B -> b\n",
        "    J -> y\n",
        "    X -> l\n",
        "\n",
        " |  |  |  |  |  |  |  |  |  |  |  |  |  |  |  |  |  |  |  |  |  |  |  |  |  |  |  |  |  |  |  |  |  |  |  |  |  |  |  |  |  |  |  |  |  |  |  |  |  |  |  |  |  |  |  |  |  |  |  |  |  |  |  |  |  |\n",
        " | - | - | - | - | - | - | - | - | - | - | - | - | - | - | - | - | - | - | - | - | - | - | - | - | - | - | - | - | - | - | - | - | - | - | - | - | - | - | - | - | - | - | - | - | - | - | - | - | - | - | - | - | - | - | - | - | - | - | - | - | - | - | - | - | - |\n",
        "1 | 2 | 3 | 4 | 5 | 6 | 7 | 8 | 9 | 10 | 11 | 12 | 13 | 14 | 15 | 16 | 17 | 18 | 19 | 20 | 21 | 22 | 23 | 24 | 25 | 26 | 27 | 28 | 29 | 30 | 31 | 32 | 33 | 34 | 35 | 36 | 37 | 38 | 39 | 40 | 41 | 42 | 43 | 44 | 45 | 46 | 47 | 48 | 49 | 50 | 51 | 52 | 53 | 54 | 55 | 56 | 57 | 58 | 59 | 60 | 61 | 62 | 63 | 64 | 65 | 66 | 67\n",
        "T | N | F | O | S | F | O | Z | S | W | P | Z | L | O | C | G | Q | A | O | Z | W | A | G | Q | R | P | J | Z | P | N | A | B | C | Z | P | Q | D | O | G | R | A | M | T | H | A | R | A | X | T | B | A | G | Z | J | O | G | M | T | H | A | R | A | V | A | P | Z | W |\n",
        "I |  |  | O |  |  | O | t |  |  | A | t |  | O |  | R |  | e | O | t |  | e | R |  |  | A | Y | t | A |  | e | B |  | t | A |  |  | O | R |  | e |  | I |  | e |  | e | L | I | B | e | R | t | Y | O | R |  | I |  | e |  | e |  | e | A | t |  |\n",
        "\n",
        "*The last 2 letters don't appear on the table being truncated from display.  They are visible in the excel sheet that I am using for my work space, so I will include them only in the final quote.*\n",
        "\n",
        "6. At this point, nothing is poping out at me, so I want fill in some more letters based on the frequency.\n",
        "In order, I will plug in N,S,H,R and see if anything pops out.\n",
        "\n",
        "\n",
        "      R -> n\n",
        "      Q -> s\n",
        "      W -> h\n",
        "      C -> d\n",
        "\n",
        "|  |  |  |  |  |  |  |  |  |  |  |  |  |  |  |  |  |  |  |  |  |  |  |  |  |  |  |  |  |  |  |  |  |  |  |  |  |  |  |  |  |  |  |  |  |  |  |  |  |  |  |  |  |  |  |  |  |  |  |  |  |  |  |  |  |\n",
        "| - | - | - | - | - | - | - | - | - | - | - | - | - | - | - | - | - | - | - | - | - | - | - | - | - | - | - | - | - | - | - | - | - | - | - | - | - | - | - | - | - | - | - | - | - | - | - | - | - | - | - | - | - | - | - | - | - | - | - | - | - | - | - | - | - |\n",
        "1 | 2 | 3 | 4 | 5 | 6 | 7 | 8 | 9 | 10 | 11 | 12 | 13 | 14 | 15 | 16 | 17 | 18 | 19 | 20 | 21 | 22 | 23 | 24 | 25 | 26 | 27 | 28 | 29 | 30 | 31 | 32 | 33 | 34 | 35 | 36 | 37 | 38 | 39 | 40 | 41 | 42 | 43 | 44 | 45 | 46 | 47 | 48 | 49 | 50 | 51 | 52 | 53 | 54 | 55 | 56 | 57 | 58 | 59 | 60 | 61 | 62 | 63 | 64 | 65 | 66 | 67\n",
        "T | N | F | O | S | F | O | Z | S | W | P | Z | L | O | C | G | Q | A | O | Z | W | A | G | Q | R | P | J | Z | P | N | A | B | C | Z | P | Q | D | O | G | R | A | M | T | H | A | R | A | X | T | B | A | G | Z | J | O | G | M | T | H | A | R | A | V | A | P | Z | W |\n",
        "I |  |  | O |  |  | O | t |  | h | A | t |  | O | d | R | s | e | O | t | h | e | R | s | n | A | Y | t | A |  | e | B | d | t | A | s |  | O | R | n | e |  | I |  | e | n | e | L | I | B | e | R | t | Y | O | R |  | I |  | e | n | e |  | e | A | t | h\n",
        "\n",
        "\n",
        "\n",
        "\n",
        "7. Starting from \"LIBERTY\", it looks like we have \"liberty or give me death\",even though the \"n\" will need to be changed to an \"m\", and use \"d\" for V and not for C.\n",
        "\n",
        "With plugging this in our current list of Cipher letters to Plaintext letters are as follows:\n",
        "\n",
        "    A -> e\n",
        "    Z -> t\n",
        "    O -> o\n",
        "    G -> r\n",
        "    P -> a\n",
        "    R -> m\n",
        "    T -> i\n",
        "    Q -> s\n",
        "    W -> h\n",
        "    B -> b\n",
        "    H -> v\n",
        "    J -> y\n",
        "    M -> g\n",
        "    V -> d\n",
        "    X -> l\n",
        "\n",
        "\n",
        "|  |  |  |  |  |  |  |  |  |  |  |  |  |  |  |  |  |  |  |  |  |  |  |  |  |  |  |  |  |  |  |  |  |  |  |  |  |  |  |  |  |  |  |  |  |  |  |  |  |  |  |  |  |  |  |  |  |  |  |  |  |  |  |  |  |\n",
        "| - | - | - | - | - | - | - | - | - | - | - | - | - | - | - | - | - | - | - | - | - | - | - | - | - | - | - | - | - | - | - | - | - | - | - | - | - | - | - | - | - | - | - | - | - | - | - | - | - | - | - | - | - | - | - | - | - | - | - | - | - | - | - | - | - |\n",
        "1 | 2 | 3 | 4 | 5 | 6 | 7 | 8 | 9 | 10 | 11 | 12 | 13 | 14 | 15 | 16 | 17 | 18 | 19 | 20 | 21 | 22 | 23 | 24 | 25 | 26 | 27 | 28 | 29 | 30 | 31 | 32 | 33 | 34 | 35 | 36 | 37 | 38 | 39 | 40 | 41 | 42 | 43 | 44 | 45 | 46 | 47 | 48 | 49 | 50 | 51 | 52 | 53 | 54 | 55 | 56 | 57 | 58 | 59 | 60 | 61 | 62 | 63 | 64 | 65 | 66 | 67\n",
        "T | N | F | O | S | F | O | Z | S | W | P | Z | L | O | C | G | Q | A | O | Z | W | A | G | Q | R | P | J | Z | P | N | A | B | C | Z | P | Q | D | O | G | R | A | M | T | H | A | R | A | X | T | B | A | G | Z | J | O | G | M | T | H | A | R | A | V | A | P | Z | W |\n",
        "I |  |  | O |  |  | O | t |  | h | A | t |  | O |  | R | s | e | O | t | h | e | R | s | m | A | Y | t | A |  | e | B |  | t | A | s |  | O | R | m | e | g | I | v | e | m | e | L | I | B | e | R | t | Y | O | R | g | I | v | e | m | e | d | e | A | t | h\n",
        "\n",
        "8. The back side of the ciphertext is looking good, but there is still a lot of open letters at the front of the ciphertext.  \n",
        "Back to frequency analysis.\n",
        "\n",
        "The first thing I want to put in is the \"n\" I took out.  \n",
        "That will go into the C slot.\n",
        "\n",
        "I will also put the \"u\" and the \"c\" into the next most frequent ciphertext letters.\n",
        "\n",
        "Our updates will be:\n",
        "\n",
        "    C -> n\n",
        "    F -> u\n",
        "    N -> c\n",
        "\n",
        "\n",
        "|  |  |  |  |  |  |  |  |  |  |  |  |  |  |  |  |  |  |  |  |  |  |  |  |  |  |  |  |  |  |  |  |  |  |  |  |  |  |  |  |  |  |  |  |  |  |  |  |  |  |  |  |  |  |  |  |  |  |  |  |  |  |  |  |  |\n",
        "| - | - | - | - | - | - | - | - | - | - | - | - | - | - | - | - | - | - | - | - | - | - | - | - | - | - | - | - | - | - | - | - | - | - | - | - | - | - | - | - | - | - | - | - | - | - | - | - | - | - | - | - | - | - | - | - | - | - | - | - | - | - | - | - | - |\n",
        "1 | 2 | 3 | 4 | 5 | 6 | 7 | 8 | 9 | 10 | 11 | 12 | 13 | 14 | 15 | 16 | 17 | 18 | 19 | 20 | 21 | 22 | 23 | 24 | 25 | 26 | 27 | 28 | 29 | 30 | 31 | 32 | 33 | 34 | 35 | 36 | 37 | 38 | 39 | 40 | 41 | 42 | 43 | 44 | 45 | 46 | 47 | 48 | 49 | 50 | 51 | 52 | 53 | 54 | 55 | 56 | 57 | 58 | 59 | 60 | 61 | 62 | 63 | 64 | 65 | 66 | 67\n",
        "T | N | F | O | S | F | O | Z | S | W | P | Z | L | O | C | G | Q | A | O | Z | W | A | G | Q | R | P | J | Z | P | N | A | B | C | Z | P | Q | D | O | G | R | A | M | T | H | A | R | A | X | T | B | A | G | Z | J | O | G | M | T | H | A | R | A | V | A | P | Z | W |\n",
        "I | c | u | O |  | u | O | t |  | h | A | t |  | O | n | R | s | e | O | t | h | e | R | s | m | A | Y | t | A | c | e | B | n | t | A | s |  | O | R | m | e | g | I | v | e | m | e | L | I | B | e | R | t | Y | O | R | g | I | v | e | m | e | d | e | A | t | h\n",
        "\n",
        "\n",
        "9. There are a lot of letters placed right now, and it's worth examining what we have, and see if there are any other guesses we can make based on what we can currently \"read\".\n",
        "\n",
        "Slot 19 to 24 -> \"Others\"\n",
        "Slot 25 to 27 -> \"May\"\n",
        "Slot 28 to 31 -> \"TaCe\"  \n",
        "  This seems like it could be TAKE? Maybe the \"c\" is wrong.\n",
        "Slot 32 to 34 -> \"BNt\"\n",
        "  This seems like it should be BUT.  So the \"n\" is wrong.\n",
        "Slot 35 to 36 -> \"As\"\n",
        "Slot 37 to 39 -> \"_or\"\n",
        "  This should be FOR.  Sub in an \"f\" for D.\n",
        "Slot 40 to 41 -> \"Me\"\n",
        "\n",
        "There are a few substitutions that I can put in and or correct.\n",
        "\n",
        "The updated Cipher to Plaintext letters based on this are now:\n",
        "\n",
        "    A -> e\n",
        "    Z -> t\n",
        "    O -> o\n",
        "    G -> r\n",
        "    P -> a\n",
        "    R -> m\n",
        "    T -> l\n",
        "    Q -> s\n",
        "    W -> h\n",
        "    B -> b\n",
        "    C -> u\n",
        "    H -> v\n",
        "    J -> y\n",
        "    M -> g\n",
        "    N -> k\n",
        "    D -> f\n",
        "    V -> d\n",
        "    X -> l\n",
        "\n",
        "|  |  |  |  |  |  |  |  |  |  |  |  |  |  |  |  |  |  |  |  |  |  |  |  |  |  |  |  |  |  |  |  |  |  |  |  |  |  |  |  |  |  |  |  |  |  |  |  |  |  |  |  |  |  |  |  |  |  |  |  |  |  |  |  |  |\n",
        "| - | - | - | - | - | - | - | - | - | - | - | - | - | - | - | - | - | - | - | - | - | - | - | - | - | - | - | - | - | - | - | - | - | - | - | - | - | - | - | - | - | - | - | - | - | - | - | - | - | - | - | - | - | - | - | - | - | - | - | - | - | - | - | - | - |\n",
        "1 | 2 | 3 | 4 | 5 | 6 | 7 | 8 | 9 | 10 | 11 | 12 | 13 | 14 | 15 | 16 | 17 | 18 | 19 | 20 | 21 | 22 | 23 | 24 | 25 | 26 | 27 | 28 | 29 | 30 | 31 | 32 | 33 | 34 | 35 | 36 | 37 | 38 | 39 | 40 | 41 | 42 | 43 | 44 | 45 | 46 | 47 | 48 | 49 | 50 | 51 | 52 | 53 | 54 | 55 | 56 | 57 | 58 | 59 | 60 | 61 | 62 | 63 | 64 | 65 | 66 | 67\n",
        "T | N | F | O | S | F | O | Z | S | W | P | Z | L | O | C | G | Q | A | O | Z | W | A | G | Q | R | P | J | Z | P | N | A | B | C | Z | P | Q | D | O | G | R | A | M | T | H | A | R | A | X | T | B | A | G | Z | J | O | G | M | T | H | A | R | A | V | A | P | Z | W |\n",
        "I | k |  | O |  |  | O | t |  | h | A | t |  | O | u | R | s | e | O | t | h | e | R | s | m | A | Y | t | A | k | e | B | u | t | A | s | f | O | R | m | e | g | I | v | e | m | e | L | I | B | e | R | t | Y | O | R | g | I | v | e | m | e | d | e | A | t | h\n",
        "\n",
        "\n",
        "10.  At this point, as they say on Wheel of Fortune, \"I'd like to solve the puzzle!\".  The first thing I realize is that I haven't put the \"n\" back in, so putting that into the F slot allows me to \"read\" from slot 1 to 12:\n",
        "\n",
        "    \"I know not what\"\n",
        "\n",
        "So I also know that \"w\" goes into the S slot.\n",
        "\n",
        "This only leaves one letter left, the L, and I can see that it should be \"c\"\n",
        "\n",
        "    A -> e\n",
        "    Z -> t\n",
        "    O -> o\n",
        "    G -> r\n",
        "    P -> a\n",
        "    R -> m\n",
        "    T -> l\n",
        "    Q -> s\n",
        "    W -> h\n",
        "    B -> b\n",
        "    C -> u\n",
        "    F -> n\n",
        "    H -> v\n",
        "    J -> y\n",
        "    M -> g\n",
        "    N -> k\n",
        "    S -> w\n",
        "    D -> f\n",
        "    L -> c\n",
        "    V -> d\n",
        "    X -> l\n",
        "\n",
        "\n",
        "The final decryption reads:\n",
        "\n",
        "    I know not what course others may take, but as for me, give me liberty or give me death.\n",
        "\n",
        "\n",
        "\n",
        "\n",
        "\n",
        "\n",
        "\n",
        "\n",
        "\n",
        "\n"
      ],
      "metadata": {
        "id": "KJFUMM4pOAEj"
      }
    },
    {
      "cell_type": "markdown",
      "source": [
        "#### Suplimental Code\n",
        "\n",
        "Writen to assist, but not actually used."
      ],
      "metadata": {
        "id": "ohk0kpI8LCuL"
      }
    },
    {
      "cell_type": "code",
      "source": [
        "freq_cipher = \"TNFOS FOZSW PZLOC GQAOZ WAGQR PJZPN ABCZP QDOGR AMTHA RAXTB AGZJO GMTHA RAVAP ZW\""
      ],
      "metadata": {
        "id": "K-Mv08bI-66U"
      },
      "execution_count": 10,
      "outputs": []
    },
    {
      "cell_type": "code",
      "source": [
        "def bigram_freq(ciphertext):\n",
        "  '''\n",
        "  Quick code to get the bigram frequency of a given ciphertext.\n",
        "  Heavily helped from the google autocode generator... thanks google.\n",
        "  '''\n",
        "  ciphertext = ciphertext.replace(\" \", \"\")\n",
        "  freq_dict = {}\n",
        "  for i in range(len(ciphertext)-1):\n",
        "    bigram = ciphertext[i:i+2]\n",
        "    if bigram in freq_dict:\n",
        "      freq_dict[bigram] += 1\n",
        "    else:\n",
        "      freq_dict[bigram] = 1\n",
        "  return freq_dict"
      ],
      "metadata": {
        "id": "ai0jPN4H-OeY"
      },
      "execution_count": 11,
      "outputs": []
    },
    {
      "cell_type": "code",
      "source": [
        "bigram_freq(freq_cipher)"
      ],
      "metadata": {
        "colab": {
          "base_uri": "https://localhost:8080/"
        },
        "id": "3ECECdQa-300",
        "outputId": "f584c810-2adf-4362-e295-57dfc889f0bf"
      },
      "execution_count": 12,
      "outputs": [
        {
          "output_type": "execute_result",
          "data": {
            "text/plain": [
              "{'TN': 1,\n",
              " 'NF': 1,\n",
              " 'FO': 2,\n",
              " 'OS': 1,\n",
              " 'SF': 1,\n",
              " 'OZ': 2,\n",
              " 'ZS': 1,\n",
              " 'SW': 1,\n",
              " 'WP': 1,\n",
              " 'PZ': 2,\n",
              " 'ZL': 1,\n",
              " 'LO': 1,\n",
              " 'OC': 1,\n",
              " 'CG': 1,\n",
              " 'GQ': 2,\n",
              " 'QA': 1,\n",
              " 'AO': 1,\n",
              " 'ZW': 2,\n",
              " 'WA': 1,\n",
              " 'AG': 2,\n",
              " 'QR': 1,\n",
              " 'RP': 1,\n",
              " 'PJ': 1,\n",
              " 'JZ': 1,\n",
              " 'ZP': 2,\n",
              " 'PN': 1,\n",
              " 'NA': 1,\n",
              " 'AB': 1,\n",
              " 'BC': 1,\n",
              " 'CZ': 1,\n",
              " 'PQ': 1,\n",
              " 'QD': 1,\n",
              " 'DO': 1,\n",
              " 'OG': 2,\n",
              " 'GR': 1,\n",
              " 'RA': 3,\n",
              " 'AM': 1,\n",
              " 'MT': 2,\n",
              " 'TH': 2,\n",
              " 'HA': 2,\n",
              " 'AR': 2,\n",
              " 'AX': 1,\n",
              " 'XT': 1,\n",
              " 'TB': 1,\n",
              " 'BA': 1,\n",
              " 'GZ': 1,\n",
              " 'ZJ': 1,\n",
              " 'JO': 1,\n",
              " 'GM': 1,\n",
              " 'AV': 1,\n",
              " 'VA': 1,\n",
              " 'AP': 1}"
            ]
          },
          "metadata": {},
          "execution_count": 12
        }
      ]
    },
    {
      "cell_type": "markdown",
      "source": [
        "## Problem 4: Understanding and Analyzing the Enigma Machine\n",
        "\n",
        "The Enigma machine, used extensively during World War II, is a fascinating example of early mechanical encryption technology. With its complex system of rotors, reflectors, and plugboards, it offered a thenunprecedented level of security. Your task involves understanding the Enigma's encryption process, estimating the size of its key space, and performing cryptanalysis on a given ciphertext.\n"
      ],
      "metadata": {
        "id": "DpEDrww9Gyrt"
      }
    },
    {
      "cell_type": "markdown",
      "source": [
        "### Part A\n",
        "\n",
        "a) Assess and calculate the size of the key space of the Enigma machine. Consider all elements that contribute to the key space: rotor wiring, ring settings, rotor stepping, reflector choices, plugboard configurations, and the initial position of rotors. We assume 3 out of 5 rotors and 10 pairs used in plugboard (check class slides)"
      ],
      "metadata": {
        "id": "gYN5rsYLG-KM"
      }
    },
    {
      "cell_type": "code",
      "source": [
        "# Part 4.A\n",
        "pass\n"
      ],
      "metadata": {
        "id": "nfzJ2XCJHJCt"
      },
      "execution_count": 13,
      "outputs": []
    },
    {
      "cell_type": "markdown",
      "source": [
        "### Part B\n",
        "\n",
        "b) Refer to the manual at https://py-enigma.readthedocs.io/_/downloads/en/latest/pdf/ Here is one code sample for enigma machine. Test it with different configurations. Just in case, you know you need to install the package py-enigma. A better approach is to ask if a required package is installed or not.\n",
        "\n",
        "Write your observations on the outcome when the plaintext has numbers or special characters.\n",
        "\n",
        "```python\n",
        "from enigma.rotors.rotor import Rotor\n",
        "from enigma.plugboard import Plugboard\n",
        "from enigma.machine import EnigmaMachine\n",
        "\n",
        "rL = Rotor('my rotor1', 'EKMFLGDQVZNTOWYHXUSPAIBRCJ', ring_setting=0, stepping='Q')\n",
        "rM = Rotor('my rotor2', 'BDFHJLCPRTXVZNYEIWGAKMUSQO', ring_setting=5, stepping='V')\n",
        "rR = Rotor('my rotor3', 'ESOVPZJAYQUIRHXLNFTGKDCMWB', ring_setting=10, stepping='J')\n",
        "\n",
        "reflector = Rotor('my reflector', 'YRUHQSLDPXNGOKMIEBFZCWVJAT')\n",
        "\n",
        "pb = Plugboard.from_key_sheet('AK BZ CG DL FU HJ MX NR OY PW')\n",
        "\n",
        "machine = EnigmaMachine([rL, rM, rR], reflector, pb)\n",
        "\n",
        "machine.set_display('UPS')       # set rotor positions or use its default\n",
        "position = machine.get_display()    # read rotor position\n",
        "print(position)\n",
        "\n",
        "# Encrypt A letter\n",
        "#print(machine.key_press('C'))\n",
        "# Encrypt a text\n",
        "print(machine.process_text('Enigma machine is powerful for Q'))\n",
        "```\n",
        "\n"
      ],
      "metadata": {
        "id": "gJxmWQ5FHRTJ"
      }
    },
    {
      "cell_type": "code",
      "source": [
        "# Enigma Template Code:\n",
        "from enigma.rotors.rotor import Rotor\n",
        "from enigma.plugboard import Plugboard\n",
        "from enigma.machine import EnigmaMachine\n",
        "\n",
        "rL = Rotor('my rotor1', 'EKMFLGDQVZNTOWYHXUSPAIBRCJ', ring_setting=0, stepping='Q')\n",
        "rM = Rotor('my rotor2', 'BDFHJLCPRTXVZNYEIWGAKMUSQO', ring_setting=5, stepping='V')\n",
        "rR = Rotor('my rotor3', 'ESOVPZJAYQUIRHXLNFTGKDCMWB', ring_setting=10, stepping='J')\n",
        "\n",
        "reflector = Rotor('my reflector', 'YRUHQSLDPXNGOKMIEBFZCWVJAT')\n",
        "\n",
        "pb = Plugboard.from_key_sheet('AK BZ CG DL FU HJ MX NR OY PW')\n",
        "\n",
        "machine = EnigmaMachine([rL, rM, rR], reflector, pb)\n",
        "\n",
        "machine.set_display('UPS')       # set rotor positions or use its default\n",
        "position = machine.get_display()    # read rotor position\n",
        "print(position)\n",
        "\n",
        "# Encrypt A letter\n",
        "#print(machine.key_press('C'))\n",
        "# Encrypt a text\n",
        "print(machine.process_text('Enigma machine is powerful for Q'))"
      ],
      "metadata": {
        "id": "kGoUg2cC-tXi",
        "colab": {
          "base_uri": "https://localhost:8080/"
        },
        "outputId": "8995432f-5f6f-445a-e2a7-2fbf637f460c"
      },
      "execution_count": 14,
      "outputs": [
        {
          "output_type": "stream",
          "name": "stdout",
          "text": [
            "UPS\n",
            "TTXOPNHJCINQGNOVGMGIAKVPHOZDWZAY\n"
          ]
        }
      ]
    },
    {
      "cell_type": "code",
      "source": [
        "# Part 4.B\n",
        "pass"
      ],
      "metadata": {
        "id": "BqNMlUlhOSFY"
      },
      "execution_count": 15,
      "outputs": []
    },
    {
      "cell_type": "markdown",
      "source": [
        "### Part C\n",
        "\n",
        "c) The codebreakers at Bletchley Park have intercepted a ciphertext “WVUVJCSQBFLEJGFNIZNIGYGOCWSUVNCIIIA” which they know corresponds to the plaintext “ATTACKXATXXXXXXATXATLANTICXZXISLAND”.\n",
        "It sounds like “ATTACKxATxxxxxx ATLANTICxZxISLAND”.\n",
        "Your challenge is to determine the initial rotor display position (code line machine.set_display(xxx) ) used to encrypt this message programmatically.\n",
        "Use your code to simulate the Enigma machine and discover the initial settings.\n"
      ],
      "metadata": {
        "id": "CbVZ1_hwOUps"
      }
    },
    {
      "cell_type": "code",
      "source": [
        "# Part 4.C\n",
        "pass"
      ],
      "metadata": {
        "id": "EHiQZQWhOtMr"
      },
      "execution_count": 16,
      "outputs": []
    }
  ]
}