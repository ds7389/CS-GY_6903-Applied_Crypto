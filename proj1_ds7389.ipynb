{
  "nbformat": 4,
  "nbformat_minor": 0,
  "metadata": {
    "colab": {
      "provenance": [],
      "toc_visible": true,
      "mount_file_id": "1TH4iPfWgCCpX-puFU77LU7S0s7iMM0o9",
      "authorship_tag": "ABX9TyMc3gDBuJyMKENETyhprsUn",
      "include_colab_link": true
    },
    "kernelspec": {
      "name": "python3",
      "display_name": "Python 3"
    },
    "language_info": {
      "name": "python"
    }
  },
  "cells": [
    {
      "cell_type": "markdown",
      "metadata": {
        "id": "view-in-github",
        "colab_type": "text"
      },
      "source": [
        "<a href=\"https://colab.research.google.com/github/ds7389/CS-GY_6903-Applied_Crypto/blob/main/proj1_ds7389.ipynb\" target=\"_parent\"><img src=\"https://colab.research.google.com/assets/colab-badge.svg\" alt=\"Open In Colab\"/></a>"
      ]
    },
    {
      "cell_type": "markdown",
      "source": [
        "# Project 01"
      ],
      "metadata": {
        "id": "ZeuBAe8LDqIs"
      }
    },
    {
      "cell_type": "code",
      "source": [
        "# Connect to Google Drive.  (Not always needed)\n",
        "\n",
        "#from google.colab import drive\n",
        "#drive.mount('/content/drive')\n"
      ],
      "metadata": {
        "id": "J32l3FkgEBK_"
      },
      "execution_count": 1,
      "outputs": []
    },
    {
      "cell_type": "code",
      "source": [
        "# Install General Libraries that may be needed for probelems\n",
        "\n",
        "#!python3 -m pip --version\n",
        "\n",
        "!python3 -m pip install py-enigma"
      ],
      "metadata": {
        "colab": {
          "base_uri": "https://localhost:8080/"
        },
        "id": "VYIkxWs6-2Pf",
        "outputId": "dfe66e3a-879f-4555-bc15-495a43d04847"
      },
      "execution_count": 2,
      "outputs": [
        {
          "output_type": "stream",
          "name": "stdout",
          "text": [
            "Requirement already satisfied: py-enigma in /usr/local/lib/python3.11/dist-packages (0.1)\n"
          ]
        }
      ]
    },
    {
      "cell_type": "markdown",
      "source": [
        "## Problem 01: Vigenère cipher\n"
      ],
      "metadata": {
        "id": "B7mlJXNADufZ"
      }
    },
    {
      "cell_type": "code",
      "source": [
        "# Letters converted to numbers dictionary\n",
        "Vigenere_Dictionary={\n",
        "\"A\":\t\"0 \",\n",
        "\"B\":\t\"1 \",\n",
        "\"C\":\t\"2 \",\n",
        "\"D\":\t\"3 \",\n",
        "\"E\":\t\"4 \",\n",
        "\"F\":\t\"5 \",\n",
        "\"G\":\t\"6 \",\n",
        "\"H\":\t\"7 \",\n",
        "\"I\":\t\"8 \",\n",
        "\"J\":\t\"9 \",\n",
        "\"K\":\t\"10 \",\n",
        "\"L\":\t\"11 \",\n",
        "\"M\":\t\"12 \",\n",
        "\"N\":\t\"13 \",\n",
        "\"O\":\t\"14 \",\n",
        "\"P\":\t\"15 \",\n",
        "\"Q\":\t\"16 \",\n",
        "\"R\":\t\"17 \",\n",
        "\"S\":\t\"18 \",\n",
        "\"T\":\t\"19 \",\n",
        "\"U\":\t\"20 \",\n",
        "\"V\":\t\"21 \",\n",
        "\"W\":\t\"22 \",\n",
        "\"X\":\t\"23 \",\n",
        "\"Y\":\t\"24 \",\n",
        "\"Z\":\t\"25 \",\n",
        "}\n"
      ],
      "metadata": {
        "id": "nV3QV6__m2ED"
      },
      "execution_count": 3,
      "outputs": []
    },
    {
      "cell_type": "markdown",
      "source": [
        "### Part A\n",
        "\n",
        "Encrypt the message using the Vigenère cipher with the given key, k = ‘apple’ to the message, m = ‘theclassistough’ to produce the ciphertext.\n"
      ],
      "metadata": {
        "id": "Z21dTJnrD24U"
      }
    },
    {
      "cell_type": "code",
      "source": [
        "# Part 1.A\n",
        "\n",
        "def encrypter(message, key):\n",
        "  '''\n",
        "  This code is not a complete encrypter at this time.\n",
        "  Currently it converts the message and key into their numberic values based on\n",
        "  the standard A=0, B=1, C=2, . . . , Z=25 subsitutions.\n",
        "  '''\n",
        "  message = str(message).upper()\n",
        "  key = str(key).upper()\n",
        "  cipher_text = []\n",
        "  key_code = []\n",
        "  for letter in message:\n",
        "    cipher_letter = Vigenere_Dictionary.get(letter)\n",
        "    cipher_text.append(cipher_letter)\n",
        "  cipher_text = \" \".join(cipher_text)\n",
        "  for letter in key:\n",
        "    key_code.append(Vigenere_Dictionary.get(letter))\n",
        "  key_code = \" \".join(key_code)\n",
        "  return cipher_text, key_code\n",
        "\n"
      ],
      "metadata": {
        "id": "ZmEuwe8OD_c7"
      },
      "execution_count": 4,
      "outputs": []
    },
    {
      "cell_type": "code",
      "source": [
        "encrypter(\"theclassisthough\", \"apple\")"
      ],
      "metadata": {
        "colab": {
          "base_uri": "https://localhost:8080/"
        },
        "id": "dXmhIZ_dttva",
        "outputId": "e8fe0a3b-d629-4794-a75b-a70502579483"
      },
      "execution_count": 5,
      "outputs": [
        {
          "output_type": "execute_result",
          "data": {
            "text/plain": [
              "('19  7  4  2  11  0  18  18  8  18  19  7  14  20  6  7 ',\n",
              " '0  15  15  11  4 ')"
            ]
          },
          "metadata": {},
          "execution_count": 5
        }
      ]
    },
    {
      "cell_type": "markdown",
      "source": [
        "#### Answer to Q1.A\n",
        "The Vigenère cipher is polyalphabetic substitution cipher.  \n",
        "\n",
        "In order to encrypt the message \"theclassistough\", the first thing we do is convert each letter to it's respective number from 0 -> 25, with A=0, B=1, C=2, . . ., Z=25.\n",
        "We do the same for the key, \"apple\".\n",
        "\n",
        "We end up with:\n",
        "\n",
        "    Message = '19 7  4  2  11  0  18  18  8  18  19  7  14  20  6  7 '\n",
        "    Key =     '0  15 15 11 4'\n",
        "\n",
        "The each letter of the key is added to the message, and when the key ends it is repeated again so that every letter of the message is added to one letter of the key.\n",
        "(See table for example of how letter of key line up with plaintext)\n",
        "\n",
        "The resulting Cipher Code numbers need to be Mod26 (in this case, subtract 26 if the number is bigger than 25).\n",
        "\n",
        "The formula for each letter is:\n",
        "\n",
        "Cipher_Letter = (Plaintext_Letter + Key_Letter)mod26\n",
        "\n",
        "The resulting Cipher_Text is:\n",
        "\n",
        "    Numberic:   \"19 22 19 13 15 0 8 8 19 22 19 4 10 17 11\"\n",
        "    Alphabetic: \"T  W  T  N  P  A I I T  W  T  E K  R  L\"\n",
        "\n"
      ],
      "metadata": {
        "id": "rVDqB00q1Wnz"
      }
    },
    {
      "cell_type": "markdown",
      "source": [
        "Table: Manual Calculations for Vigenere encryption and decryption\n",
        "\n",
        "\n",
        "| Plaintext |t|h|e|c|l|a|s|s|i|s|t|o|u|g|h|\n",
        "| -- | -- | -- | -- | -- | -- | -- | -- | -- | -- | -- | -- | -- | -- | -- | -- |\n",
        "| Plaintext Numberic |19|7|4|2|11|0|18|18|8|18|19|14|20|6|7|\n",
        "|||||||||||||||||\n",
        "|Key|a|p|p|l|e|||||||||||\n",
        "|Key Numberic Repeating |0|15|15|11|4|0|15|15|11|4|0|15|15|11|4|\n",
        "|||||||||||||||||\n",
        "|Cipher|T|W|T|N|P|A|I|I|T|W|T|E|K|R|L|\n",
        "|Cipher Code|19|22|19|13|15|0|33|33|19|22|19|29|35|17|11|\n",
        "|Cipher Code Mod 26|19|22|19|13|15|0|8|8|19|22|19|4|10|17|11|\n",
        "|||||||||||||||||\n",
        "|Key|a|p|p|l|e|||||||||||\n",
        "||0|15|15|11|4|0|15|15|11|4|0|15|15|11|4|\n",
        "|||||||||||||||||\n",
        "|PlainText Decoded|19|7|4|2|11|0|-7|-7|8|18|19|-11|-5|6|7|\n",
        "|Plaintext Decoded Mod 26|19|7|4|2|11|0|18|18|8|18|19|14|20|6|7|\n",
        "|||||||||||||||||\n",
        "|Decoded Plaintext|T|H|E|C|L|A|S|S|I|S|T|O|U|G|H|\n"
      ],
      "metadata": {
        "id": "1DcWJ-sPPvdc"
      }
    },
    {
      "cell_type": "markdown",
      "source": [
        "### Part B\n",
        "Then (b) decrypt the ciphertext back to retrieve the original\n",
        "plaintext. Show your work."
      ],
      "metadata": {
        "id": "W4FYppfED9MF"
      }
    },
    {
      "cell_type": "code",
      "source": [
        "# Part 1.B\n",
        "pass"
      ],
      "metadata": {
        "id": "CZ2_n_flEayU"
      },
      "execution_count": 6,
      "outputs": []
    },
    {
      "cell_type": "markdown",
      "source": [
        "#### Answer to 1.B\n",
        "\n",
        "In order to decrypt the cipher text with the key, we are going to inverse the encryption process.\n",
        "\n",
        "Ciphertext =\n",
        "\n",
        "    Alphabetic: \"T W T N P A I I T W T E K R L\"\n",
        "    Numberic: \"19 22 19 13 15 0 8 8 19 22 19 4 10 17 11\"\n",
        "\n",
        "Key =\n",
        "\n",
        "    Alphabetic: \"A P P L E\"\n",
        "    Numberic: \"0 15 15 11 4\"\n",
        "\n",
        "We take the Ciphertext numberic value, and line them up with the numberic value of the key repeated.\n",
        "We then subtract the key from the ciphertext.\n",
        "If the value of the plaintext is negative, we add 26 to it.\n",
        "(This is the same as taking the mod26 of the plaintext.)\n",
        "\n",
        "The formula to represent the decryption for each letter is:\n",
        "\n",
        "Plaintext_Letter = (Cipher_Letter - key_letter)mod26.\n",
        "\n",
        "The resulting plaintext is the same as our original plaintext:\n",
        "\n",
        "Plaintext =\n",
        "\n",
        "    Alphabetic: \"t\th\te\tc\tl\ta\ts\ts\ti\ts\tt\to\tu\tg\th\"\n",
        "    Numberic: \"19\t7\t4\t2\t11\t0\t18\t18\t8\t18\t19\t14\t20\t6\t7\"\n",
        "\n"
      ],
      "metadata": {
        "id": "cGYqFhfC7qCb"
      }
    },
    {
      "cell_type": "markdown",
      "source": [
        "Table: Manual Calculations for Vigenere encryption and decryption\n",
        "\n",
        "\n",
        "| Plaintext |t|h|e|c|l|a|s|s|i|s|t|o|u|g|h|\n",
        "| -- | -- | -- | -- | -- | -- | -- | -- | -- | -- | -- | -- | -- | -- | -- | -- |\n",
        "| Plaintext Numberic |19|7|4|2|11|0|18|18|8|18|19|14|20|6|7|\n",
        "|||||||||||||||||\n",
        "|Key|a|p|p|l|e|||||||||||\n",
        "|Key Numberic Repeating |0|15|15|11|4|0|15|15|11|4|0|15|15|11|4|\n",
        "|||||||||||||||||\n",
        "|Cipher|T|W|T|N|P|A|I|I|T|W|T|E|K|R|L|\n",
        "|Cipher Code|19|22|19|13|15|0|33|33|19|22|19|29|35|17|11|\n",
        "|Cipher Code Mod 26|19|22|19|13|15|0|8|8|19|22|19|4|10|17|11|\n",
        "|||||||||||||||||\n",
        "|Key|a|p|p|l|e|||||||||||\n",
        "||0|15|15|11|4|0|15|15|11|4|0|15|15|11|4|\n",
        "|||||||||||||||||\n",
        "|PlainText Decoded|19|7|4|2|11|0|-7|-7|8|18|19|-11|-5|6|7|\n",
        "|Plaintext Decoded Mod 26|19|7|4|2|11|0|18|18|8|18|19|14|20|6|7|\n",
        "|||||||||||||||||\n",
        "|Decoded Plaintext|T|H|E|C|L|A|S|S|I|S|T|O|U|G|H|\n"
      ],
      "metadata": {
        "id": "g8xFkQnMRzRL"
      }
    },
    {
      "cell_type": "markdown",
      "source": [
        "## Problem2: Affine Cipher\n",
        "\n",
        "The Affine cipher is a type of monoalphabetic substitution cipher that employs modular arithmetic to encrypt the letters of a message. The encryption formula is c = (a * p + b) mod n, where 'p' is the plaintext letter, 'c' is the ciphertext letter, 'n' is the modulus. 'a' and 'b' are keys, and 'a' must be chosen such that 'a' and 'n' are coprime (relatively prime). In this cipher, each letter of the plaintext is converted into an integer, for example, A=0, B=1, C=2, and so on."
      ],
      "metadata": {
        "id": "emO3N6vkE5fK"
      }
    },
    {
      "cell_type": "markdown",
      "source": [
        "### Part A\n",
        "\n",
        "a) What is the size of key space for a fixed modular n? Students can use the notation of the Euler's totient Φ(n) which is defined as the number of integers less than n and relative prime to n."
      ],
      "metadata": {
        "id": "J5EGWwllFXig"
      }
    },
    {
      "cell_type": "code",
      "source": [
        "# Part 2.A\n",
        "pass\n",
        "\n",
        "#From the class video"
      ],
      "metadata": {
        "id": "0iTQl85WFf6h"
      },
      "execution_count": 7,
      "outputs": []
    },
    {
      "cell_type": "markdown",
      "source": [
        "### Part B\n",
        "\n",
        "b) Imagine you're a cryptographer tasked with sending a secure message using the Affine Cipher. Your message consists only of capital letters, and you've decided to use the encryption formula c = 5p+9 mod 26 and do it manually. What is the ciphertext for the plaintext “CRYPTOISFUN”?\n"
      ],
      "metadata": {
        "id": "nK9X6jpJFhzg"
      }
    },
    {
      "cell_type": "code",
      "source": [
        "# Part 2.B\n",
        "pass\n",
        "\n",
        "#Can crack with math or with brute force... just show it in the formula.  No need for a lot of details.\n"
      ],
      "metadata": {
        "id": "BkHrb9xrFtCz"
      },
      "execution_count": 8,
      "outputs": []
    },
    {
      "cell_type": "markdown",
      "source": [
        "### Part C\n",
        "\n",
        "c) Eve has intercepted a ciphertext “QJKESREOGHGXXREOXEO” and, through her intelligence sources, discovered that it’s encrypted using an Affine Cipher. She also has limited information about the encryption process: the letter 'T' is encrypted to 'H' and 'O' to 'E'. With this knowledge, she aims to decrypt the message. Your challenge is to help Eve by developing a method to find the decryption function of the Affine Cipher using the given information. You do it manually. Show your work.\n"
      ],
      "metadata": {
        "id": "YTK_I5_7FvBD"
      }
    },
    {
      "cell_type": "code",
      "source": [
        "# Part 2.C\n",
        "pass\n",
        "\n",
        "#later ask soham for video."
      ],
      "metadata": {
        "id": "QggBt8J5FupB"
      },
      "execution_count": 9,
      "outputs": []
    },
    {
      "cell_type": "markdown",
      "source": [
        "## Problem 3 Frequency Analysis\n",
        "\n",
        "Alice has crafted a message for Bob using a simple substitution cipher. The encrypted message, segmented is \"TNFOS FOZSW PZLOC GQAOZ WAGQR PJZPN ABCZP QDOGR AMTHA RAXTB AGZJO GMTHA RAVAP ZW\", where spaces are not part of the original encryption and are added only for convenience. Eve, who has intercepted the message, knows that the word \"liberty\" appears somewhere in the plaintext."
      ],
      "metadata": {
        "id": "8EJOeSfYGCda"
      }
    },
    {
      "cell_type": "markdown",
      "source": [
        "### Part A\n",
        "\n",
        "a) Calculate the Size of the Key Space. Explain how the key space is calculated and its implications for the cipher's security."
      ],
      "metadata": {
        "id": "DZg1Kd1fGUXQ"
      }
    },
    {
      "cell_type": "code",
      "source": [
        "# Part 3.A\n",
        "pass"
      ],
      "metadata": {
        "id": "0jLo1GWZGBxf"
      },
      "execution_count": 10,
      "outputs": []
    },
    {
      "cell_type": "markdown",
      "source": [
        "### Part B\n",
        "\n",
        "b) Given Eve's knowledge that the word \"liberty\" is in the plaintext, devise a strategy to decrypt the message. This task requires analyzing the ciphertext, making educated guesses, and testing hypotheses about the cipher's key. Your goal is to uncover the original message sent by Alice to Bob. You can solve it using any resources you have. A detailed explanation of your method is required."
      ],
      "metadata": {
        "id": "40z3KlDaGmSo"
      }
    },
    {
      "cell_type": "code",
      "source": [
        "# Part 3.B\n",
        "pass"
      ],
      "metadata": {
        "id": "RxAClYvLGwG-"
      },
      "execution_count": 11,
      "outputs": []
    },
    {
      "cell_type": "markdown",
      "source": [
        "## Problem 4: Understanding and Analyzing the Enigma Machine\n",
        "\n",
        "The Enigma machine, used extensively during World War II, is a fascinating example of early mechanical encryption technology. With its complex system of rotors, reflectors, and plugboards, it offered a thenunprecedented level of security. Your task involves understanding the Enigma's encryption process, estimating the size of its key space, and performing cryptanalysis on a given ciphertext.\n"
      ],
      "metadata": {
        "id": "DpEDrww9Gyrt"
      }
    },
    {
      "cell_type": "markdown",
      "source": [
        "### Part A\n",
        "\n",
        "a) Assess and calculate the size of the key space of the Enigma machine. Consider all elements that contribute to the key space: rotor wiring, ring settings, rotor stepping, reflector choices, plugboard configurations, and the initial position of rotors. We assume 3 out of 5 rotors and 10 pairs used in plugboard (check class slides)"
      ],
      "metadata": {
        "id": "gYN5rsYLG-KM"
      }
    },
    {
      "cell_type": "code",
      "source": [
        "# Part 4.A\n",
        "pass\n"
      ],
      "metadata": {
        "id": "nfzJ2XCJHJCt"
      },
      "execution_count": 12,
      "outputs": []
    },
    {
      "cell_type": "markdown",
      "source": [
        "### Part B\n",
        "\n",
        "b) Refer to the manual at https://py-enigma.readthedocs.io/_/downloads/en/latest/pdf/ Here is one code sample for enigma machine. Test it with different configurations. Just in case, you know you need to install the package py-enigma. A better approach is to ask if a required package is installed or not.\n",
        "\n",
        "Write your observations on the outcome when the plaintext has numbers or special characters.\n",
        "\n",
        "```python\n",
        "from enigma.rotors.rotor import Rotor\n",
        "from enigma.plugboard import Plugboard\n",
        "from enigma.machine import EnigmaMachine\n",
        "\n",
        "rL = Rotor('my rotor1', 'EKMFLGDQVZNTOWYHXUSPAIBRCJ', ring_setting=0, stepping='Q')\n",
        "rM = Rotor('my rotor2', 'BDFHJLCPRTXVZNYEIWGAKMUSQO', ring_setting=5, stepping='V')\n",
        "rR = Rotor('my rotor3', 'ESOVPZJAYQUIRHXLNFTGKDCMWB', ring_setting=10, stepping='J')\n",
        "\n",
        "reflector = Rotor('my reflector', 'YRUHQSLDPXNGOKMIEBFZCWVJAT')\n",
        "\n",
        "pb = Plugboard.from_key_sheet('AK BZ CG DL FU HJ MX NR OY PW')\n",
        "\n",
        "machine = EnigmaMachine([rL, rM, rR], reflector, pb)\n",
        "\n",
        "machine.set_display('UPS')       # set rotor positions or use its default\n",
        "position = machine.get_display()    # read rotor position\n",
        "print(position)\n",
        "\n",
        "# Encrypt A letter\n",
        "#print(machine.key_press('C'))\n",
        "# Encrypt a text\n",
        "print(machine.process_text('Enigma machine is powerful for Q'))\n",
        "```\n",
        "\n"
      ],
      "metadata": {
        "id": "gJxmWQ5FHRTJ"
      }
    },
    {
      "cell_type": "code",
      "source": [
        "# Enigma Template Code:\n",
        "from enigma.rotors.rotor import Rotor\n",
        "from enigma.plugboard import Plugboard\n",
        "from enigma.machine import EnigmaMachine\n",
        "\n",
        "rL = Rotor('my rotor1', 'EKMFLGDQVZNTOWYHXUSPAIBRCJ', ring_setting=0, stepping='Q')\n",
        "rM = Rotor('my rotor2', 'BDFHJLCPRTXVZNYEIWGAKMUSQO', ring_setting=5, stepping='V')\n",
        "rR = Rotor('my rotor3', 'ESOVPZJAYQUIRHXLNFTGKDCMWB', ring_setting=10, stepping='J')\n",
        "\n",
        "reflector = Rotor('my reflector', 'YRUHQSLDPXNGOKMIEBFZCWVJAT')\n",
        "\n",
        "pb = Plugboard.from_key_sheet('AK BZ CG DL FU HJ MX NR OY PW')\n",
        "\n",
        "machine = EnigmaMachine([rL, rM, rR], reflector, pb)\n",
        "\n",
        "machine.set_display('UPS')       # set rotor positions or use its default\n",
        "position = machine.get_display()    # read rotor position\n",
        "print(position)\n",
        "\n",
        "# Encrypt A letter\n",
        "#print(machine.key_press('C'))\n",
        "# Encrypt a text\n",
        "print(machine.process_text('Enigma machine is powerful for Q'))"
      ],
      "metadata": {
        "colab": {
          "base_uri": "https://localhost:8080/"
        },
        "id": "kGoUg2cC-tXi",
        "outputId": "a23e1bdc-e9c1-44a5-bc8d-985c2f8c51e2"
      },
      "execution_count": 13,
      "outputs": [
        {
          "output_type": "stream",
          "name": "stdout",
          "text": [
            "UPS\n",
            "TTXOPNHJCINQGNOVGMGIAKVPHOZDWZAY\n"
          ]
        }
      ]
    },
    {
      "cell_type": "code",
      "source": [
        "# Part 4.B\n",
        "pass"
      ],
      "metadata": {
        "id": "BqNMlUlhOSFY"
      },
      "execution_count": 14,
      "outputs": []
    },
    {
      "cell_type": "markdown",
      "source": [
        "### Part C\n",
        "\n",
        "c) The codebreakers at Bletchley Park have intercepted a ciphertext “WVUVJCSQBFLEJGFNIZNIGYGOCWSUVNCIIIA” which they know corresponds to the plaintext “ATTACKXATXXXXXXATXATLANTICXZXISLAND”.\n",
        "It sounds like “ATTACKxATxxxxxx ATLANTICxZxISLAND”.\n",
        "Your challenge is to determine the initial rotor display position (code line machine.set_display(xxx) ) used to encrypt this message programmatically.\n",
        "Use your code to simulate the Enigma machine and discover the initial settings.\n"
      ],
      "metadata": {
        "id": "CbVZ1_hwOUps"
      }
    },
    {
      "cell_type": "code",
      "source": [
        "# Part 4.C\n",
        "pass"
      ],
      "metadata": {
        "id": "EHiQZQWhOtMr"
      },
      "execution_count": 15,
      "outputs": []
    }
  ]
}