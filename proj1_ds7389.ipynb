{
  "nbformat": 4,
  "nbformat_minor": 0,
  "metadata": {
    "colab": {
      "provenance": [],
      "mount_file_id": "1TH4iPfWgCCpX-puFU77LU7S0s7iMM0o9",
      "authorship_tag": "ABX9TyOYc9RKy3aqG20zWTl3mawG",
      "include_colab_link": true
    },
    "kernelspec": {
      "name": "python3",
      "display_name": "Python 3"
    },
    "language_info": {
      "name": "python"
    }
  },
  "cells": [
    {
      "cell_type": "markdown",
      "metadata": {
        "id": "view-in-github",
        "colab_type": "text"
      },
      "source": [
        "<a href=\"https://colab.research.google.com/github/ds7389/CS-GY_6903-Applied_Crypto/blob/main/proj1_ds7389.ipynb\" target=\"_parent\"><img src=\"https://colab.research.google.com/assets/colab-badge.svg\" alt=\"Open In Colab\"/></a>"
      ]
    },
    {
      "cell_type": "markdown",
      "source": [
        "# Project 01"
      ],
      "metadata": {
        "id": "ZeuBAe8LDqIs"
      }
    },
    {
      "cell_type": "code",
      "source": [
        "# General Libraries needed for all Problems\n",
        "\n",
        "from google.colab import drive\n",
        "drive.mount('/content/drive')\n"
      ],
      "metadata": {
        "colab": {
          "base_uri": "https://localhost:8080/"
        },
        "id": "J32l3FkgEBK_",
        "outputId": "b125e1e5-1298-430b-9886-6141a6f0b12c"
      },
      "execution_count": 1,
      "outputs": [
        {
          "output_type": "stream",
          "name": "stdout",
          "text": [
            "Drive already mounted at /content/drive; to attempt to forcibly remount, call drive.mount(\"/content/drive\", force_remount=True).\n"
          ]
        }
      ]
    },
    {
      "cell_type": "markdown",
      "source": [
        "## Problem 01 (Vigenere Cipher)"
      ],
      "metadata": {
        "id": "B7mlJXNADufZ"
      }
    },
    {
      "cell_type": "markdown",
      "source": [
        "### Part A\n",
        "\n",
        "Encrypt the message using the Vigenère cipher with the given key, k = ‘apple’ to the message, m = ‘theclassistough’ to produce the ciphertext.\n"
      ],
      "metadata": {
        "id": "Z21dTJnrD24U"
      }
    },
    {
      "cell_type": "code",
      "source": [
        "# Part 1.A"
      ],
      "metadata": {
        "id": "ZmEuwe8OD_c7"
      },
      "execution_count": null,
      "outputs": []
    },
    {
      "cell_type": "markdown",
      "source": [
        "### Part B\n",
        "Then (b) decrypt the ciphertext back to retrieve the original\n",
        "plaintext. Show your work."
      ],
      "metadata": {
        "id": "W4FYppfED9MF"
      }
    },
    {
      "cell_type": "code",
      "source": [
        "# Part 1.B"
      ],
      "metadata": {
        "id": "CZ2_n_flEayU"
      },
      "execution_count": null,
      "outputs": []
    },
    {
      "cell_type": "markdown",
      "source": [
        "## Problem2: Affine Cipher\n",
        "\n",
        "The Affine cipher is a type of monoalphabetic substitution cipher that employs modular arithmetic to encrypt the letters of a message. The encryption formula is c = (a * p + b) mod n, where 'p' is the plaintext letter, 'c' is the ciphertext letter, 'n' is the modulus. 'a' and 'b' are keys, and 'a' must be chosen such that 'a' and 'n' are coprime (relatively prime). In this cipher, each letter of the plaintext is converted into an integer, for example, A=0, B=1, C=2, and so on."
      ],
      "metadata": {
        "id": "emO3N6vkE5fK"
      }
    },
    {
      "cell_type": "markdown",
      "source": [
        "### Part A\n",
        "\n",
        "a) What is the size of key space for a fixed modular n? Students can use the notation of the Euler's totient Φ(n) which is defined as the number of integers less than n and relative prime to n."
      ],
      "metadata": {
        "id": "J5EGWwllFXig"
      }
    },
    {
      "cell_type": "code",
      "source": [
        "# Part 2.A"
      ],
      "metadata": {
        "id": "0iTQl85WFf6h"
      },
      "execution_count": null,
      "outputs": []
    },
    {
      "cell_type": "markdown",
      "source": [
        "### Part B\n",
        "\n",
        "b) Imagine you're a cryptographer tasked with sending a secure message using the Affine Cipher. Your message consists only of capital letters, and you've decided to use the encryption formula c = 5p+9 mod 26 and do it manually. What is the ciphertext for the plaintext “CRYPTOISFUN”?\n"
      ],
      "metadata": {
        "id": "nK9X6jpJFhzg"
      }
    },
    {
      "cell_type": "code",
      "source": [
        "# Part 2.B"
      ],
      "metadata": {
        "id": "BkHrb9xrFtCz"
      },
      "execution_count": null,
      "outputs": []
    },
    {
      "cell_type": "markdown",
      "source": [
        "### Part C\n",
        "\n",
        "c) Eve has intercepted a ciphertext “QJKESREOGHGXXREOXEO” and, through her intelligence sources, discovered that it’s encrypted using an Affine Cipher. She also has limited information about the encryption process: the letter 'T' is encrypted to 'H' and 'O' to 'E'. With this knowledge, she aims to decrypt the message. Your challenge is to help Eve by developing a method to find the decryption function of the Affine Cipher using the given information. You do it manually. Show your work.\n"
      ],
      "metadata": {
        "id": "YTK_I5_7FvBD"
      }
    },
    {
      "cell_type": "code",
      "source": [
        "# Part 2.C"
      ],
      "metadata": {
        "id": "QggBt8J5FupB"
      },
      "execution_count": null,
      "outputs": []
    },
    {
      "cell_type": "markdown",
      "source": [
        "## Problem 3 Frequency Analysis\n",
        "\n",
        "Alice has crafted a message for Bob using a simple substitution cipher. The encrypted message, segmented is \"TNFOS FOZSW PZLOC GQAOZ WAGQR PJZPN ABCZP QDOGR AMTHA RAXTB AGZJO GMTHA RAVAP ZW\", where spaces are not part of the original encryption and are added only for convenience. Eve, who has intercepted the message, knows that the word \"liberty\" appears somewhere in the plaintext."
      ],
      "metadata": {
        "id": "8EJOeSfYGCda"
      }
    },
    {
      "cell_type": "markdown",
      "source": [
        "### Part A\n",
        "\n",
        "a) Calculate the Size of the Key Space. Explain how the key space is calculated and its implications for the cipher's security."
      ],
      "metadata": {
        "id": "DZg1Kd1fGUXQ"
      }
    },
    {
      "cell_type": "code",
      "source": [
        "# Part 3.A"
      ],
      "metadata": {
        "id": "0jLo1GWZGBxf"
      },
      "execution_count": null,
      "outputs": []
    },
    {
      "cell_type": "markdown",
      "source": [
        "### Part B\n",
        "\n",
        "b) Given Eve's knowledge that the word \"liberty\" is in the plaintext, devise a strategy to decrypt the message. This task requires analyzing the ciphertext, making educated guesses, and testing hypotheses about the cipher's key. Your goal is to uncover the original message sent by Alice to Bob. You can solve it using any resources you have. A detailed explanation of your method is required."
      ],
      "metadata": {
        "id": "40z3KlDaGmSo"
      }
    },
    {
      "cell_type": "code",
      "source": [
        "# Part 3.B\n"
      ],
      "metadata": {
        "id": "RxAClYvLGwG-"
      },
      "execution_count": null,
      "outputs": []
    },
    {
      "cell_type": "markdown",
      "source": [
        "## Problem 4: Understanding and Analyzing the Enigma Machine\n",
        "\n",
        "The Enigma machine, used extensively during World War II, is a fascinating example of early mechanical encryption technology. With its complex system of rotors, reflectors, and plugboards, it offered a thenunprecedented level of security. Your task involves understanding the Enigma's encryption process, estimating the size of its key space, and performing cryptanalysis on a given ciphertext.\n"
      ],
      "metadata": {
        "id": "DpEDrww9Gyrt"
      }
    },
    {
      "cell_type": "markdown",
      "source": [
        "### Part A\n",
        "\n",
        "a) Assess and calculate the size of the key space of the Enigma machine. Consider all elements that contribute to the key space: rotor wiring, ring settings, rotor stepping, reflector choices, plugboard configurations, and the initial position of rotors. We assume 3 out of 5 rotors and 10 pairs used in plugboard (check class slides)"
      ],
      "metadata": {
        "id": "gYN5rsYLG-KM"
      }
    },
    {
      "cell_type": "code",
      "source": [
        "# Part 4.A\n"
      ],
      "metadata": {
        "id": "nfzJ2XCJHJCt"
      },
      "execution_count": null,
      "outputs": []
    },
    {
      "cell_type": "markdown",
      "source": [
        "### Part B\n",
        "\n",
        "b) Refer to the manual at https://py-enigma.readthedocs.io/_/downloads/en/latest/pdf/ Here is one code sample for enigma machine. Test it with different configurations. Just in case, you know you need to install the package py-enigma. A better approach is to ask if a required package is installed or not.\n",
        "\n",
        "Write your observations on the outcome when the plaintext has numbers or special characters.\n",
        "\n",
        "![Question Image](https://drive.google.com/uc?export=view&id=1-DqR0k-RQT-mSg_AI5BoKG42IlQ62Ujn)\n",
        "\n"
      ],
      "metadata": {
        "id": "gJxmWQ5FHRTJ"
      }
    },
    {
      "cell_type": "code",
      "source": [
        "# Part 4.B"
      ],
      "metadata": {
        "id": "BqNMlUlhOSFY"
      },
      "execution_count": null,
      "outputs": []
    },
    {
      "cell_type": "markdown",
      "source": [
        "### Part C\n",
        "\n",
        "c) The codebreakers at Bletchley Park have intercepted a ciphertext “WVUVJCSQBFLEJGFNIZNIGYGOCWSUVNCIIIA” which they know corresponds to the plaintext “ATTACKXATXXXXXXATXATLANTICXZXISLAND”.\n",
        "It sounds like “ATTACKxATxxxxxx ATLANTICxZxISLAND”.\n",
        "Your challenge is to determine the initial rotor display position (code line machine.set_display(xxx) ) used to encrypt this message programmatically.\n",
        "Use your code to simulate the Enigma machine and discover the initial settings.\n"
      ],
      "metadata": {
        "id": "CbVZ1_hwOUps"
      }
    },
    {
      "cell_type": "code",
      "source": [
        "# Part 4.C"
      ],
      "metadata": {
        "id": "EHiQZQWhOtMr"
      },
      "execution_count": null,
      "outputs": []
    }
  ]
}